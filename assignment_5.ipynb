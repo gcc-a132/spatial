{
 "cells": [
  {
   "cell_type": "markdown",
   "metadata": {},
   "source": [
    "# Assignment 4: EDA and Bootstrapping\n",
    "\n",
    "- Questions 1-7 are homework. The rest are extra credit."
   ]
  },
  {
   "cell_type": "markdown",
   "metadata": {},
   "source": [
    "## Objective"
   ]
  },
  {
   "cell_type": "markdown",
   "metadata": {},
   "source": [
    "Statistics play a vital role in data science for (at least) two reasons. First, it can be used to gain a deep understanding of data. This process is known as **Exploratory Data Analysis (EDA)**. Second, it can be used to infer the relationship between a sample and the population. This process is known as **inference**. In this assignment, you will learn about EDA and statistical inference through the analysis of a very interesting dataset - [property tax report data](http://data.vancouver.ca/datacatalogue/propertyTax.htm). Specifically, you will learn the followings:\n",
    "\n",
    "1. Be able to perform EDA on a single column (i.e., univariate analysis) \n",
    "2. Be able to perform EDA on multiple columns (i.e., multivariate analysis)\n",
    "3. Be able to extract insights from visualizations\n",
    "4. Be able to ask critical questions about data\n",
    "5. Be able to estimate a population parameter based on a sample\n",
    "6. Be able to use the bootstrap to quantify the uncertainty of an estimated value\n",
    "\n",
    "In this assignment, you can use [pandas](https://pandas.pydata.org/) or PySpark to manipulate data, and use [matplotlib](https://matplotlib.org/) or [seaborn](https://seaborn.pydata.org) to make plots. "
   ]
  },
  {
   "cell_type": "markdown",
   "metadata": {},
   "source": [
    "## Part 1. EDA"
   ]
  },
  {
   "cell_type": "markdown",
   "metadata": {},
   "source": [
    "Imagine you are a data scientist working at a real-estate company. In this week, your job is to analyze the Vancouver's housing price. You first download a dataset from [property_tax_report_2018.zip](property_tax_report_2018.zip). The dataset contains information on properties from BC Assessment (BCA) and City sources in 2018.  You can find the schema information of the dataset from this [webpage](http://data.vancouver.ca/datacatalogue/propertyTaxAttributes.htm). But this is not enough. You still know little about the data. That's why you need to do EDA in order to get a better and deeper understanding of the data."
   ]
  },
  {
   "cell_type": "markdown",
   "metadata": {},
   "source": [
    "We first load the data as a DataFrame. To make this analysis more interesting, I added two new columns to the data: `CURRENT_PRICE` represents the property price in 2018; `PREVIOUS_PRICE` represents the property price in 2017. "
   ]
  },
  {
   "cell_type": "code",
   "execution_count": 1,
   "metadata": {},
   "outputs": [],
   "source": [
    "import pandas as pd\n",
    "\n",
    "df = pd.read_csv(\"property_tax_report_2018.csv\")\n",
    "\n",
    "df['CURRENT_PRICE'] = df.apply(lambda x: x['CURRENT_LAND_VALUE']+x['CURRENT_IMPROVEMENT_VALUE'], axis = 1)\n",
    "\n",
    "df['PREVIOUS_PRICE'] = df.apply(lambda x: x['PREVIOUS_LAND_VALUE']+x['PREVIOUS_IMPROVEMENT_VALUE'], axis = 1)"
   ]
  },
  {
   "cell_type": "markdown",
   "metadata": {},
   "source": [
    "Now let's start the EDA process. \n",
    "\n",
    "**Hint.** For some of the following questions, I provided an example plot (see [link](http://htmlpreview.github.io/?https://github.com/sfu-db/bigdata-cmpt733/blob/master/Assignments/A4/A4-plots.html)). But note that you do not have to use the same plot design. In fact, I didn't do a good job to follow the *Principles of Visualization Design* presented in Lecture 3.  You should think about how to correct the bad designs in my plots."
   ]
  },
  {
   "cell_type": "markdown",
   "metadata": {},
   "source": [
    "### Question 1. Look at some example rows\n",
    "Print the first five rows of the data:"
   ]
  },
  {
   "cell_type": "code",
   "execution_count": 2,
   "metadata": {
    "scrolled": true
   },
   "outputs": [
    {
     "data": {
      "text/html": [
       "<div>\n",
       "<style scoped>\n",
       "    .dataframe tbody tr th:only-of-type {\n",
       "        vertical-align: middle;\n",
       "    }\n",
       "\n",
       "    .dataframe tbody tr th {\n",
       "        vertical-align: top;\n",
       "    }\n",
       "\n",
       "    .dataframe thead th {\n",
       "        text-align: right;\n",
       "    }\n",
       "</style>\n",
       "<table border=\"1\" class=\"dataframe\">\n",
       "  <thead>\n",
       "    <tr style=\"text-align: right;\">\n",
       "      <th></th>\n",
       "      <th>PID</th>\n",
       "      <th>LEGAL_TYPE</th>\n",
       "      <th>FOLIO</th>\n",
       "      <th>LAND_COORDINATE</th>\n",
       "      <th>ZONE_NAME</th>\n",
       "      <th>ZONE_CATEGORY</th>\n",
       "      <th>LOT</th>\n",
       "      <th>BLOCK</th>\n",
       "      <th>PLAN</th>\n",
       "      <th>DISTRICT_LOT</th>\n",
       "      <th>...</th>\n",
       "      <th>CURRENT_IMPROVEMENT_VALUE</th>\n",
       "      <th>TAX_ASSESSMENT_YEAR</th>\n",
       "      <th>PREVIOUS_LAND_VALUE</th>\n",
       "      <th>PREVIOUS_IMPROVEMENT_VALUE</th>\n",
       "      <th>YEAR_BUILT</th>\n",
       "      <th>BIG_IMPROVEMENT_YEAR</th>\n",
       "      <th>TAX_LEVY</th>\n",
       "      <th>NEIGHBOURHOOD_CODE</th>\n",
       "      <th>CURRENT_PRICE</th>\n",
       "      <th>PREVIOUS_PRICE</th>\n",
       "    </tr>\n",
       "  </thead>\n",
       "  <tbody>\n",
       "    <tr>\n",
       "      <th>0</th>\n",
       "      <td>025-734-601</td>\n",
       "      <td>STRATA</td>\n",
       "      <td>7.500400e+11</td>\n",
       "      <td>75004024</td>\n",
       "      <td>C-2</td>\n",
       "      <td>Commercial</td>\n",
       "      <td>25</td>\n",
       "      <td>NaN</td>\n",
       "      <td>BCS498</td>\n",
       "      <td>2027</td>\n",
       "      <td>...</td>\n",
       "      <td>242000</td>\n",
       "      <td>2018</td>\n",
       "      <td>472000.0</td>\n",
       "      <td>238000.0</td>\n",
       "      <td>2003.0</td>\n",
       "      <td>2003.0</td>\n",
       "      <td>NaN</td>\n",
       "      <td>3</td>\n",
       "      <td>834000</td>\n",
       "      <td>710000.0</td>\n",
       "    </tr>\n",
       "    <tr>\n",
       "      <th>1</th>\n",
       "      <td>029-700-868</td>\n",
       "      <td>STRATA</td>\n",
       "      <td>6.381830e+11</td>\n",
       "      <td>63818250</td>\n",
       "      <td>CD-1 (464)</td>\n",
       "      <td>Comprehensive Development</td>\n",
       "      <td>132</td>\n",
       "      <td>NaN</td>\n",
       "      <td>EPS2983</td>\n",
       "      <td>200A</td>\n",
       "      <td>...</td>\n",
       "      <td>327000</td>\n",
       "      <td>2018</td>\n",
       "      <td>603000.0</td>\n",
       "      <td>329000.0</td>\n",
       "      <td>NaN</td>\n",
       "      <td>NaN</td>\n",
       "      <td>NaN</td>\n",
       "      <td>13</td>\n",
       "      <td>1042000</td>\n",
       "      <td>932000.0</td>\n",
       "    </tr>\n",
       "    <tr>\n",
       "      <th>2</th>\n",
       "      <td>029-814-227</td>\n",
       "      <td>STRATA</td>\n",
       "      <td>1.708260e+11</td>\n",
       "      <td>17082596</td>\n",
       "      <td>CD-1 (535)</td>\n",
       "      <td>Comprehensive Development</td>\n",
       "      <td>25</td>\n",
       "      <td>NaN</td>\n",
       "      <td>EPS3173</td>\n",
       "      <td>311</td>\n",
       "      <td>...</td>\n",
       "      <td>273000</td>\n",
       "      <td>2018</td>\n",
       "      <td>416000.0</td>\n",
       "      <td>273000.0</td>\n",
       "      <td>NaN</td>\n",
       "      <td>NaN</td>\n",
       "      <td>NaN</td>\n",
       "      <td>12</td>\n",
       "      <td>780000</td>\n",
       "      <td>689000.0</td>\n",
       "    </tr>\n",
       "    <tr>\n",
       "      <th>3</th>\n",
       "      <td>029-918-731</td>\n",
       "      <td>STRATA</td>\n",
       "      <td>6.401940e+11</td>\n",
       "      <td>64019406</td>\n",
       "      <td>IC-3</td>\n",
       "      <td>Light Industrial</td>\n",
       "      <td>40</td>\n",
       "      <td>26</td>\n",
       "      <td>EPS2425</td>\n",
       "      <td>200A</td>\n",
       "      <td>...</td>\n",
       "      <td>170000</td>\n",
       "      <td>2018</td>\n",
       "      <td>168000.0</td>\n",
       "      <td>170000.0</td>\n",
       "      <td>NaN</td>\n",
       "      <td>NaN</td>\n",
       "      <td>NaN</td>\n",
       "      <td>13</td>\n",
       "      <td>397000</td>\n",
       "      <td>338000.0</td>\n",
       "    </tr>\n",
       "    <tr>\n",
       "      <th>4</th>\n",
       "      <td>017-393-400</td>\n",
       "      <td>STRATA</td>\n",
       "      <td>6.011150e+11</td>\n",
       "      <td>60111496</td>\n",
       "      <td>CD-1 (233)</td>\n",
       "      <td>Comprehensive Development</td>\n",
       "      <td>7</td>\n",
       "      <td>NaN</td>\n",
       "      <td>LMS75</td>\n",
       "      <td>185</td>\n",
       "      <td>...</td>\n",
       "      <td>380000</td>\n",
       "      <td>2018</td>\n",
       "      <td>531000.0</td>\n",
       "      <td>385000.0</td>\n",
       "      <td>1991.0</td>\n",
       "      <td>1991.0</td>\n",
       "      <td>NaN</td>\n",
       "      <td>27</td>\n",
       "      <td>1181000</td>\n",
       "      <td>916000.0</td>\n",
       "    </tr>\n",
       "  </tbody>\n",
       "</table>\n",
       "<p>5 rows × 30 columns</p>\n",
       "</div>"
      ],
      "text/plain": [
       "           PID LEGAL_TYPE         FOLIO  LAND_COORDINATE   ZONE_NAME  \\\n",
       "0  025-734-601     STRATA  7.500400e+11         75004024         C-2   \n",
       "1  029-700-868     STRATA  6.381830e+11         63818250  CD-1 (464)   \n",
       "2  029-814-227     STRATA  1.708260e+11         17082596  CD-1 (535)   \n",
       "3  029-918-731     STRATA  6.401940e+11         64019406        IC-3   \n",
       "4  017-393-400     STRATA  6.011150e+11         60111496  CD-1 (233)   \n",
       "\n",
       "               ZONE_CATEGORY  LOT BLOCK     PLAN DISTRICT_LOT       ...        \\\n",
       "0                 Commercial   25   NaN   BCS498         2027       ...         \n",
       "1  Comprehensive Development  132   NaN  EPS2983         200A       ...         \n",
       "2  Comprehensive Development   25   NaN  EPS3173          311       ...         \n",
       "3           Light Industrial   40    26  EPS2425         200A       ...         \n",
       "4  Comprehensive Development    7   NaN    LMS75          185       ...         \n",
       "\n",
       "  CURRENT_IMPROVEMENT_VALUE  TAX_ASSESSMENT_YEAR PREVIOUS_LAND_VALUE  \\\n",
       "0                    242000                 2018            472000.0   \n",
       "1                    327000                 2018            603000.0   \n",
       "2                    273000                 2018            416000.0   \n",
       "3                    170000                 2018            168000.0   \n",
       "4                    380000                 2018            531000.0   \n",
       "\n",
       "  PREVIOUS_IMPROVEMENT_VALUE YEAR_BUILT BIG_IMPROVEMENT_YEAR TAX_LEVY  \\\n",
       "0                   238000.0     2003.0               2003.0      NaN   \n",
       "1                   329000.0        NaN                  NaN      NaN   \n",
       "2                   273000.0        NaN                  NaN      NaN   \n",
       "3                   170000.0        NaN                  NaN      NaN   \n",
       "4                   385000.0     1991.0               1991.0      NaN   \n",
       "\n",
       "  NEIGHBOURHOOD_CODE CURRENT_PRICE  PREVIOUS_PRICE  \n",
       "0                  3        834000        710000.0  \n",
       "1                 13       1042000        932000.0  \n",
       "2                 12        780000        689000.0  \n",
       "3                 13        397000        338000.0  \n",
       "4                 27       1181000        916000.0  \n",
       "\n",
       "[5 rows x 30 columns]"
      ]
     },
     "execution_count": 2,
     "metadata": {},
     "output_type": "execute_result"
    }
   ],
   "source": [
    "# --- Write your code below ---\n",
    "df.head(5)"
   ]
  },
  {
   "cell_type": "markdown",
   "metadata": {},
   "source": [
    "### Question 2. Get summary statistics"
   ]
  },
  {
   "cell_type": "markdown",
   "metadata": {},
   "source": [
    "From the above output, you will know that the data has 28 columns. Please use the describe() function to get the summary statistics of each column."
   ]
  },
  {
   "cell_type": "code",
   "execution_count": 3,
   "metadata": {},
   "outputs": [
    {
     "data": {
      "text/html": [
       "<div>\n",
       "<style scoped>\n",
       "    .dataframe tbody tr th:only-of-type {\n",
       "        vertical-align: middle;\n",
       "    }\n",
       "\n",
       "    .dataframe tbody tr th {\n",
       "        vertical-align: top;\n",
       "    }\n",
       "\n",
       "    .dataframe thead th {\n",
       "        text-align: right;\n",
       "    }\n",
       "</style>\n",
       "<table border=\"1\" class=\"dataframe\">\n",
       "  <thead>\n",
       "    <tr style=\"text-align: right;\">\n",
       "      <th></th>\n",
       "      <th>FOLIO</th>\n",
       "      <th>LAND_COORDINATE</th>\n",
       "      <th>TO_CIVIC_NUMBER</th>\n",
       "      <th>CURRENT_LAND_VALUE</th>\n",
       "      <th>CURRENT_IMPROVEMENT_VALUE</th>\n",
       "      <th>TAX_ASSESSMENT_YEAR</th>\n",
       "      <th>PREVIOUS_LAND_VALUE</th>\n",
       "      <th>PREVIOUS_IMPROVEMENT_VALUE</th>\n",
       "      <th>YEAR_BUILT</th>\n",
       "      <th>BIG_IMPROVEMENT_YEAR</th>\n",
       "      <th>TAX_LEVY</th>\n",
       "      <th>NEIGHBOURHOOD_CODE</th>\n",
       "      <th>CURRENT_PRICE</th>\n",
       "      <th>PREVIOUS_PRICE</th>\n",
       "    </tr>\n",
       "  </thead>\n",
       "  <tbody>\n",
       "    <tr>\n",
       "      <th>count</th>\n",
       "      <td>2.053460e+05</td>\n",
       "      <td>2.053460e+05</td>\n",
       "      <td>204731.000000</td>\n",
       "      <td>2.053460e+05</td>\n",
       "      <td>2.053460e+05</td>\n",
       "      <td>205346.0</td>\n",
       "      <td>2.030420e+05</td>\n",
       "      <td>2.030420e+05</td>\n",
       "      <td>194899.000000</td>\n",
       "      <td>194905.000000</td>\n",
       "      <td>0.0</td>\n",
       "      <td>205346.000000</td>\n",
       "      <td>2.053460e+05</td>\n",
       "      <td>2.030420e+05</td>\n",
       "    </tr>\n",
       "    <tr>\n",
       "      <th>mean</th>\n",
       "      <td>4.984322e+11</td>\n",
       "      <td>4.984322e+07</td>\n",
       "      <td>2355.494566</td>\n",
       "      <td>1.862369e+06</td>\n",
       "      <td>4.006923e+05</td>\n",
       "      <td>2018.0</td>\n",
       "      <td>1.695359e+06</td>\n",
       "      <td>3.875009e+05</td>\n",
       "      <td>1979.969641</td>\n",
       "      <td>1987.354090</td>\n",
       "      <td>NaN</td>\n",
       "      <td>16.524159</td>\n",
       "      <td>2.263062e+06</td>\n",
       "      <td>2.082860e+06</td>\n",
       "    </tr>\n",
       "    <tr>\n",
       "      <th>std</th>\n",
       "      <td>2.479372e+11</td>\n",
       "      <td>2.479372e+07</td>\n",
       "      <td>1947.760697</td>\n",
       "      <td>1.074259e+07</td>\n",
       "      <td>4.148662e+06</td>\n",
       "      <td>0.0</td>\n",
       "      <td>9.646130e+06</td>\n",
       "      <td>4.236152e+06</td>\n",
       "      <td>29.419729</td>\n",
       "      <td>19.839132</td>\n",
       "      <td>NaN</td>\n",
       "      <td>9.052394</td>\n",
       "      <td>1.258726e+07</td>\n",
       "      <td>1.131819e+07</td>\n",
       "    </tr>\n",
       "    <tr>\n",
       "      <th>min</th>\n",
       "      <td>1.963206e+10</td>\n",
       "      <td>1.963206e+06</td>\n",
       "      <td>1.000000</td>\n",
       "      <td>0.000000e+00</td>\n",
       "      <td>0.000000e+00</td>\n",
       "      <td>2018.0</td>\n",
       "      <td>0.000000e+00</td>\n",
       "      <td>0.000000e+00</td>\n",
       "      <td>1800.000000</td>\n",
       "      <td>200.000000</td>\n",
       "      <td>NaN</td>\n",
       "      <td>1.000000</td>\n",
       "      <td>1.000000e+00</td>\n",
       "      <td>1.000000e+00</td>\n",
       "    </tr>\n",
       "    <tr>\n",
       "      <th>25%</th>\n",
       "      <td>2.107920e+11</td>\n",
       "      <td>2.107919e+07</td>\n",
       "      <td>948.000000</td>\n",
       "      <td>4.680000e+05</td>\n",
       "      <td>9.530000e+04</td>\n",
       "      <td>2018.0</td>\n",
       "      <td>3.840000e+05</td>\n",
       "      <td>9.470000e+04</td>\n",
       "      <td>1965.000000</td>\n",
       "      <td>1975.000000</td>\n",
       "      <td>NaN</td>\n",
       "      <td>9.000000</td>\n",
       "      <td>6.530000e+05</td>\n",
       "      <td>5.670000e+05</td>\n",
       "    </tr>\n",
       "    <tr>\n",
       "      <th>50%</th>\n",
       "      <td>6.122360e+11</td>\n",
       "      <td>6.122363e+07</td>\n",
       "      <td>1777.000000</td>\n",
       "      <td>1.057000e+06</td>\n",
       "      <td>1.830000e+05</td>\n",
       "      <td>2018.0</td>\n",
       "      <td>9.440000e+05</td>\n",
       "      <td>1.810000e+05</td>\n",
       "      <td>1990.000000</td>\n",
       "      <td>1992.000000</td>\n",
       "      <td>NaN</td>\n",
       "      <td>16.000000</td>\n",
       "      <td>1.278000e+06</td>\n",
       "      <td>1.201000e+06</td>\n",
       "    </tr>\n",
       "    <tr>\n",
       "      <th>75%</th>\n",
       "      <td>6.882770e+11</td>\n",
       "      <td>6.882774e+07</td>\n",
       "      <td>3290.000000</td>\n",
       "      <td>1.692000e+06</td>\n",
       "      <td>2.950000e+05</td>\n",
       "      <td>2018.0</td>\n",
       "      <td>1.680000e+06</td>\n",
       "      <td>2.880000e+05</td>\n",
       "      <td>2002.000000</td>\n",
       "      <td>2002.000000</td>\n",
       "      <td>NaN</td>\n",
       "      <td>25.000000</td>\n",
       "      <td>1.984000e+06</td>\n",
       "      <td>1.937000e+06</td>\n",
       "    </tr>\n",
       "    <tr>\n",
       "      <th>max</th>\n",
       "      <td>8.453130e+11</td>\n",
       "      <td>8.453134e+07</td>\n",
       "      <td>9295.000000</td>\n",
       "      <td>3.516727e+09</td>\n",
       "      <td>6.117980e+08</td>\n",
       "      <td>2018.0</td>\n",
       "      <td>3.319471e+09</td>\n",
       "      <td>6.262320e+08</td>\n",
       "      <td>2015.000000</td>\n",
       "      <td>2015.000000</td>\n",
       "      <td>NaN</td>\n",
       "      <td>30.000000</td>\n",
       "      <td>3.516727e+09</td>\n",
       "      <td>3.319471e+09</td>\n",
       "    </tr>\n",
       "  </tbody>\n",
       "</table>\n",
       "</div>"
      ],
      "text/plain": [
       "              FOLIO  LAND_COORDINATE  TO_CIVIC_NUMBER  CURRENT_LAND_VALUE  \\\n",
       "count  2.053460e+05     2.053460e+05    204731.000000        2.053460e+05   \n",
       "mean   4.984322e+11     4.984322e+07      2355.494566        1.862369e+06   \n",
       "std    2.479372e+11     2.479372e+07      1947.760697        1.074259e+07   \n",
       "min    1.963206e+10     1.963206e+06         1.000000        0.000000e+00   \n",
       "25%    2.107920e+11     2.107919e+07       948.000000        4.680000e+05   \n",
       "50%    6.122360e+11     6.122363e+07      1777.000000        1.057000e+06   \n",
       "75%    6.882770e+11     6.882774e+07      3290.000000        1.692000e+06   \n",
       "max    8.453130e+11     8.453134e+07      9295.000000        3.516727e+09   \n",
       "\n",
       "       CURRENT_IMPROVEMENT_VALUE  TAX_ASSESSMENT_YEAR  PREVIOUS_LAND_VALUE  \\\n",
       "count               2.053460e+05             205346.0         2.030420e+05   \n",
       "mean                4.006923e+05               2018.0         1.695359e+06   \n",
       "std                 4.148662e+06                  0.0         9.646130e+06   \n",
       "min                 0.000000e+00               2018.0         0.000000e+00   \n",
       "25%                 9.530000e+04               2018.0         3.840000e+05   \n",
       "50%                 1.830000e+05               2018.0         9.440000e+05   \n",
       "75%                 2.950000e+05               2018.0         1.680000e+06   \n",
       "max                 6.117980e+08               2018.0         3.319471e+09   \n",
       "\n",
       "       PREVIOUS_IMPROVEMENT_VALUE     YEAR_BUILT  BIG_IMPROVEMENT_YEAR  \\\n",
       "count                2.030420e+05  194899.000000         194905.000000   \n",
       "mean                 3.875009e+05    1979.969641           1987.354090   \n",
       "std                  4.236152e+06      29.419729             19.839132   \n",
       "min                  0.000000e+00    1800.000000            200.000000   \n",
       "25%                  9.470000e+04    1965.000000           1975.000000   \n",
       "50%                  1.810000e+05    1990.000000           1992.000000   \n",
       "75%                  2.880000e+05    2002.000000           2002.000000   \n",
       "max                  6.262320e+08    2015.000000           2015.000000   \n",
       "\n",
       "       TAX_LEVY  NEIGHBOURHOOD_CODE  CURRENT_PRICE  PREVIOUS_PRICE  \n",
       "count       0.0       205346.000000   2.053460e+05    2.030420e+05  \n",
       "mean        NaN           16.524159   2.263062e+06    2.082860e+06  \n",
       "std         NaN            9.052394   1.258726e+07    1.131819e+07  \n",
       "min         NaN            1.000000   1.000000e+00    1.000000e+00  \n",
       "25%         NaN            9.000000   6.530000e+05    5.670000e+05  \n",
       "50%         NaN           16.000000   1.278000e+06    1.201000e+06  \n",
       "75%         NaN           25.000000   1.984000e+06    1.937000e+06  \n",
       "max         NaN           30.000000   3.516727e+09    3.319471e+09  "
      ]
     },
     "execution_count": 3,
     "metadata": {},
     "output_type": "execute_result"
    }
   ],
   "source": [
    "# --- Write your code below ---\n",
    "df.describe()"
   ]
  },
  {
   "cell_type": "markdown",
   "metadata": {},
   "source": [
    "Please look at the above output carefully, and make sure that you understand the meanings of each row (e.g., std, 25% percentile)."
   ]
  },
  {
   "cell_type": "markdown",
   "metadata": {},
   "source": [
    "### Question 3. Examine missing values"
   ]
  },
  {
   "cell_type": "markdown",
   "metadata": {},
   "source": [
    "Now we are going to perform EDA on a single column (i.e., univariate analysis). We chose `YEAR_BUILT`, which represents in which year a property was built.  We first check whether the column has any missing value. "
   ]
  },
  {
   "cell_type": "code",
   "execution_count": 4,
   "metadata": {
    "scrolled": true
   },
   "outputs": [
    {
     "data": {
      "text/plain": [
       "1994.0    6302\n",
       "1995.0    5665\n",
       "2005.0    5027\n",
       "2009.0    5002\n",
       "1999.0    4877\n",
       "1997.0    4795\n",
       "1998.0    4794\n",
       "2008.0    4457\n",
       "2006.0    4401\n",
       "1993.0    4315\n",
       "1989.0    4171\n",
       "1996.0    4112\n",
       "2007.0    4089\n",
       "2000.0    4053\n",
       "2013.0    3875\n",
       "2004.0    3867\n",
       "1912.0    3854\n",
       "2002.0    3727\n",
       "1990.0    3477\n",
       "2011.0    3469\n",
       "2012.0    3415\n",
       "2003.0    3368\n",
       "2014.0    3237\n",
       "1910.0    3070\n",
       "1992.0    3041\n",
       "1988.0    3037\n",
       "1986.0    2797\n",
       "1991.0    2784\n",
       "2010.0    2708\n",
       "1981.0    2702\n",
       "          ... \n",
       "1937.0     486\n",
       "1905.0     472\n",
       "1908.0     421\n",
       "1921.0     307\n",
       "1901.0     303\n",
       "1932.0     291\n",
       "1936.0     270\n",
       "1909.0     263\n",
       "1915.0     247\n",
       "1943.0     242\n",
       "1918.0     211\n",
       "1935.0     158\n",
       "1907.0     142\n",
       "1919.0     141\n",
       "1906.0     135\n",
       "1933.0     117\n",
       "1934.0     106\n",
       "1916.0      80\n",
       "1904.0      68\n",
       "1900.0      40\n",
       "1800.0      33\n",
       "1917.0      33\n",
       "1903.0      23\n",
       "2015.0      18\n",
       "1902.0      15\n",
       "1898.0       4\n",
       "1899.0       1\n",
       "1893.0       1\n",
       "1890.0       1\n",
       "1886.0       1\n",
       "Name: YEAR_BUILT, Length: 122, dtype: int64"
      ]
     },
     "execution_count": 4,
     "metadata": {},
     "output_type": "execute_result"
    }
   ],
   "source": [
    "# --- Write your code below ---\n",
    "# Print the percentage of the rows whose YEAR_BUILT is missing.\n",
    "df.YEAR_BUILT.value_counts()"
   ]
  },
  {
   "cell_type": "markdown",
   "metadata": {},
   "source": [
    "Missing values are very common in real-world datasets. In practice, you should always be aware of the impact of the missing values on your downstream analysis results."
   ]
  },
  {
   "cell_type": "markdown",
   "metadata": {},
   "source": [
    "### Question 4.  Plot a line chart"
   ]
  },
  {
   "cell_type": "markdown",
   "metadata": {},
   "source": [
    "We now start investigating the values in the `YEAR_BUILT` column.  Suppose we want to know: \"How many properties were built in each year (from 1900 to 2018)?\" Please plot a line chart to answer the question."
   ]
  },
  {
   "cell_type": "code",
   "execution_count": 6,
   "metadata": {
    "scrolled": true
   },
   "outputs": [
    {
     "data": {
      "text/plain": [
       "<matplotlib.axes._subplots.AxesSubplot at 0x22d8179ddd8>"
      ]
     },
     "execution_count": 6,
     "metadata": {},
     "output_type": "execute_result"
    },
    {
     "data": {
      "image/png": "[encoded data removed]",
      "text/plain": [
       "<Figure size 432x288 with 1 Axes>"
      ]
     },
     "metadata": {},
     "output_type": "display_data"
    }
   ],
   "source": [
    "# --- Write your code below ---\n",
    "%matplotlib inline\n",
    "df.YEAR_BUILT.plot(kind='line')"
   ]
  },
  {
   "cell_type": "markdown",
   "metadata": {
    "collapsed": true
   },
   "source": [
    "Please write down the **two** most interesting findings that you draw from the plot. For example, you can say: <font color='blue'>\"Vancouver has about 6300 properties built in 1996 alone, which is more than any other year\"</font>. For each finding, please write <font color=\"red\">no more than 2 sentences</font>.\n",
    "\n",
    "**Findings**\n",
    "1. [ADD TEXT]\n",
    "2. [ADD TEXT]"
   ]
  },
  {
   "cell_type": "markdown",
   "metadata": {},
   "source": [
    "### Question 5. Plot a bar chart"
   ]
  },
  {
   "cell_type": "markdown",
   "metadata": {},
   "source": [
    "Next, we want to find that, between 1900 and 2018, which years have the most number of properties been built? Plot a bar chart to show the top 20 years. "
   ]
  },
  {
   "cell_type": "code",
   "execution_count": null,
   "metadata": {
    "collapsed": true,
    "scrolled": true
   },
   "outputs": [],
   "source": [
    "# --- Write your code below ---\n"
   ]
  },
  {
   "cell_type": "markdown",
   "metadata": {},
   "source": [
    "Please write down the **two** most interesting findings that you draw from the plot. \n",
    "\n",
    "**Findings**\n",
    "1. [ADD TEXT]\n",
    "2. [ADD TEXT]"
   ]
  },
  {
   "cell_type": "markdown",
   "metadata": {},
   "source": [
    "### Question 6. Plot a histogram"
   ]
  },
  {
   "cell_type": "markdown",
   "metadata": {},
   "source": [
    "What's the distribution of the number of properties built between 1900 and 2018? Please plot a histogram to answer this question."
   ]
  },
  {
   "cell_type": "code",
   "execution_count": null,
   "metadata": {
    "collapsed": true
   },
   "outputs": [],
   "source": [
    "# --- Write your code below ---\n"
   ]
  },
  {
   "cell_type": "markdown",
   "metadata": {},
   "source": [
    "Please write down the **two** most interesting findings that you draw from the plot. \n",
    "\n",
    "**Findings**\n",
    "1. [ADD TEXT]\n",
    "2. [ADD TEXT]"
   ]
  },
  {
   "cell_type": "markdown",
   "metadata": {},
   "source": [
    "### Question 7. Make a scatter plot"
   ]
  },
  {
   "cell_type": "markdown",
   "metadata": {},
   "source": [
    "Suppose we are interested in those years which built more than 2000 properties. Make a scatter plot to examine whether there is a relationship between the number of built properties and the year?"
   ]
  },
  {
   "cell_type": "code",
   "execution_count": null,
   "metadata": {
    "collapsed": true,
    "scrolled": true
   },
   "outputs": [],
   "source": [
    "# --- Write your code below ---\n"
   ]
  },
  {
   "cell_type": "markdown",
   "metadata": {},
   "source": [
    "Please write down the **two** most interesting findings that you draw from the plot. \n",
    "\n",
    "**Findings**\n",
    "1. [ADD TEXT]\n",
    "2. [ADD TEXT]"
   ]
  },
  {
   "cell_type": "markdown",
   "metadata": {},
   "source": [
    "### Question 8. PDF and CDF"
   ]
  },
  {
   "cell_type": "markdown",
   "metadata": {},
   "source": [
    "Can you believe that you have already drawn 8 interesting findings by exploring a single column! This is the power of EDA combined with critical thinking. Now we are moving to multivariate analysis.\n",
    "\n",
    "Suppose you want to compare the housing price between this year and last year, i.e., CURRENT_PRICE vs. PREVIOUS_PRICE. \n",
    "You can plot their distributions, and make the comparison. There are two ways to define a distribution: [Probabilistic Distribution Function](https://en.wikipedia.org/wiki/Probability_density_function) (PDF) and [Cumulative Distribution Function](https://en.wikipedia.org/wiki/Cumulative_distribution_function) (CDF). \n",
    "\n",
    "In the following, please make two plots and put them side-by-side.  \n",
    "* In the first plot, use histograms to plot the probabilistic distributions of CURRENT_PRICE and PREVIOUS_PRICE.\n",
    "* In the second plot, use histograms to plot the cumulative distributions of CURRENT_PRICE and PREVIOUS_PRICE.\n",
    "\n",
    "There are a few properties which are way more expensive than the others. For both plots, please exclude those properties by setting `xlim` = (0, 5Million)."
   ]
  },
  {
   "cell_type": "code",
   "execution_count": null,
   "metadata": {
    "collapsed": true,
    "scrolled": false
   },
   "outputs": [],
   "source": [
    "# --- Write your code below ---\n"
   ]
  },
  {
   "cell_type": "markdown",
   "metadata": {},
   "source": [
    "Please write down the **two** most interesting findings that you draw from the plots. \n",
    "\n",
    "**Findings**\n",
    "1. [ADD TEXT]\n",
    "2. [ADD TEXT]"
   ]
  },
  {
   "cell_type": "markdown",
   "metadata": {},
   "source": [
    "### Question 9. Use EDA to answer an interesting question (1)"
   ]
  },
  {
   "cell_type": "markdown",
   "metadata": {},
   "source": [
    "In the above plots, we found that the overall housing price has increased, but we do not which type of property has increased more. \n",
    "\n",
    "Now we add another variable `LEGAL_TYPE` (e.g., STRATA, LAND) to the analysis, and consider three variables (`LEGAL_TYPE`, `CURRENT_PRICE`, `PREVIOUS_PRICE`) in total. \n",
    "\n",
    "In the following, please make two plots and put them side-by-side.\n",
    "* In the first plot, please use histograms to plot the probabilistic distributions of CURRENT_PRICE and PREVIOUS_PRICE for `LEGAL_TYPE` = \"STRATA\".\n",
    "* In the first plot, please use histograms to plot the probabilistic distributions of CURRENT_PRICE and PREVIOUS_PRICE for `LEGAL_TYPE` = \"LAND\"."
   ]
  },
  {
   "cell_type": "code",
   "execution_count": null,
   "metadata": {
    "collapsed": true,
    "scrolled": true
   },
   "outputs": [],
   "source": [
    "# --- Write your code below ---\n"
   ]
  },
  {
   "cell_type": "markdown",
   "metadata": {},
   "source": [
    "Please write down the **two** most interesting findings that you draw from the plots. \n",
    "\n",
    "**Findings**\n",
    "1. [ADD TEXT]\n",
    "2. [ADD TEXT]"
   ]
  },
  {
   "cell_type": "markdown",
   "metadata": {},
   "source": [
    "### Question 10. Use EDA to answer interesting questions (2)"
   ]
  },
  {
   "cell_type": "markdown",
   "metadata": {},
   "source": [
    "Although the housing price of the entire Vancouver area is increasing, there might be some areas whose housing price is decreasing. To answer this question, we need to consider another column -- `PROPERTY_POSTAL_CODE`.\n",
    "\n",
    "`PROPERTY_POSTAL_CODE` (e.g., \"V5A 1S6\") is a six-character string with a space separating the third and fourth characters. We use the first three characters to represent an *area*. \n",
    "\n",
    "We first filter out the areas which have less than 10 properties. For each of the remaining areas, we calculate the percentage of the properties whose price has decreased compared to the last year. For example, if an area \"V5A\" has 50 properties, and 30 of them have decreased, then the percentage is 60%.\n",
    "\n",
    "Please write code to find the top-10 areas with the highest percentages. Create a bar chart to visualize them. "
   ]
  },
  {
   "cell_type": "code",
   "execution_count": null,
   "metadata": {
    "collapsed": true,
    "scrolled": true
   },
   "outputs": [],
   "source": [
    "# --- Write your code below ---\n"
   ]
  },
  {
   "cell_type": "markdown",
   "metadata": {},
   "source": [
    "Please write down the **two** most interesting findings that you draw from the plot. \n",
    "\n",
    "**Findings**\n",
    "1. [ADD TEXT]\n",
    "2. [ADD TEXT]"
   ]
  },
  {
   "cell_type": "markdown",
   "metadata": {},
   "source": [
    "### Question 11. Come up with your own question."
   ]
  },
  {
   "cell_type": "markdown",
   "metadata": {},
   "source": [
    "*You need to complete the following three tasks.*\n",
    "\n",
    "Firstly, please come up with an interesting question on your own (like Q9 and Q10). \n",
    "\n",
    "**A short description of the question: [ADD TEXT]**"
   ]
  },
  {
   "cell_type": "markdown",
   "metadata": {},
   "source": [
    "Secondly, please write code so that the output of your code can answer the question."
   ]
  },
  {
   "cell_type": "code",
   "execution_count": null,
   "metadata": {
    "collapsed": true
   },
   "outputs": [],
   "source": [
    "# --- Write your code below ---\n",
    "\n"
   ]
  },
  {
   "cell_type": "markdown",
   "metadata": {},
   "source": [
    "Thirdly, please write the two most important findings.\n",
    "\n",
    "**Findings**\n",
    "1. [ADD TEXT]\n",
    "2. [ADD TEXT]"
   ]
  },
  {
   "cell_type": "markdown",
   "metadata": {},
   "source": [
    "## Part 2. Bootstrapping"
   ]
  },
  {
   "cell_type": "markdown",
   "metadata": {},
   "source": [
    "In Part 1, we run our analysis over the full dataset. In reality, however, you may not be that lucky. It is more often than not that you can only collect a sample of the data. Whenever you derive a conclusion from a sample (e.g., The Vancouver's housing price has increased by 10\\% since last year), you should ALWAYS ask yourself: <font color=\"blue\">\"CAN I TRUST IT?\"</font>. In other words, you want to know that if the same analysis was conducted on the full data, would the same conclusion be derived? In Part 2, you will learn how to use bootstrapping to answer this question. "
   ]
  },
  {
   "cell_type": "markdown",
   "metadata": {},
   "source": [
    "Please download the sample dataset [property_tax_report_2018_sample.zip](property_tax_report_2018_sample.zip), and load it as a DataFrame. "
   ]
  },
  {
   "cell_type": "code",
   "execution_count": null,
   "metadata": {
    "collapsed": true
   },
   "outputs": [],
   "source": [
    "df_sample = pd.read_csv(\"property_tax_report_sample.csv\")\n",
    "\n",
    "df_sample['CURRENT_PRICE'] = df_sample.apply(lambda x: x['CURRENT_LAND_VALUE']+x['CURRENT_IMPROVEMENT_VALUE'], axis = 1)\n",
    "\n",
    "df_sample['PREVIOUS_PRICE'] = df_sample.apply(lambda x: x['PREVIOUS_LAND_VALUE']+x['PREVIOUS_IMPROVEMENT_VALUE'], axis = 1)\n",
    "\n",
    "df_sample = df_sample[df_sample['LEGAL_TYPE'] == 'STRATA']"
   ]
  },
  {
   "cell_type": "markdown",
   "metadata": {},
   "source": [
    "### Task 1. Analysis Result Without Bootstrapping"
   ]
  },
  {
   "cell_type": "markdown",
   "metadata": {},
   "source": [
    "Please compute the median of PREVIOUS_PRICE and CURRENT_PRICE, respectively, and compare them in a bar chart."
   ]
  },
  {
   "cell_type": "code",
   "execution_count": null,
   "metadata": {
    "collapsed": true
   },
   "outputs": [],
   "source": [
    "# --- Write your code below ---\n"
   ]
  },
  {
   "cell_type": "markdown",
   "metadata": {},
   "source": [
    "### Task 2. Analysis Result With Bootstrapping"
   ]
  },
  {
   "cell_type": "markdown",
   "metadata": {},
   "source": [
    "From the above chart, we find that the median of PREVIOUS_PRICE is about 0.6 M, and the median of CURRENT_PRICE is about 0.7 M. Since the numbers were obtained from the sample, <font color=\"blue\">\"CAN WE TRUST THESE NUMBERS?\"</font> \n",
    "\n",
    "In the following, please implement the bootstrap by yourself, and compute a 95%-confidence interval for each number. [This document](./MIT18_05S14_Reading24.pdf) gives a good tutorial about the bootstrap. You can find the description of the algorithm in Section 7."
   ]
  },
  {
   "cell_type": "code",
   "execution_count": null,
   "metadata": {
    "collapsed": true,
    "scrolled": true
   },
   "outputs": [],
   "source": [
    "# --- Write your code below ---\n"
   ]
  }
 ],
 "metadata": {
  "kernelspec": {
   "display_name": "Python 3",
   "language": "python",
   "name": "python3"
  },
  "language_info": {
   "codemirror_mode": {
    "name": "ipython",
    "version": 3
   },
   "file_extension": ".py",
   "mimetype": "text/x-python",
   "name": "python",
   "nbconvert_exporter": "python",
   "pygments_lexer": "ipython3",
   "version": "3.6.5"
  }
 },
 "nbformat": 4,
 "nbformat_minor": 2
}
