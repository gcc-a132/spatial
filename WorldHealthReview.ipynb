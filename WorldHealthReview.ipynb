{
 "cells": [
  {
   "cell_type": "markdown",
   "metadata": {},
   "source": [
    "# Health and Nutrition Data Exploration\n",
    "Dataset: https://www.kaggle.com/theworldbank/health-nutrition-and-population-statistics\n",
    "- you typically have to make an account on Kaggle (great place to learn more about datascience and get test datasets. Also challenges from companies etc. I've downloaded this for you and saved it in the assignment directory as 'data.csv'"
   ]
  },
  {
   "cell_type": "markdown",
   "metadata": {},
   "source": [
    "### 1) Read the dataset into a Pandas Dataframe and save it to a table named \"world_health\" in an sqlite database called \"healthdata.db\""
   ]
  },
  {
   "cell_type": "markdown",
   "metadata": {
    "collapsed": true
   },
   "source": [
    "To do this you will be using some built in functions of Pandas. In fact, it takes your dataframe and converts it to an SQL table. We will be using \"SQLite\" database - which is just one of many types of databases using the SQL language. Also we will be using another python library called \"sqlalchemy\"[https://www.sqlalchemy.org/] Here is a very very similar tutorial showing you how to do these steps with NYC 311 calls (open dataset also available from Toronto!!):[https://plot.ly/python/big-data-analytics-with-pandas-and-sqlite/] * Note it is also using a library \"plotly\" - another visualization library - this one is a paid service as well. But we will use Plotly's free version tomorrow's lab. \n",
    "\n",
    "Also note, saving the dataframe to a sqlite table will take several minutes to complete. If it takes too long, or keeps crashing, just write the code and don't run it. Go on with the lab. There seems to be an issue with the server setup that keep stalling the table writing. \n",
    "\n",
    "\n"
   ]
  },
  {
   "cell_type": "code",
   "execution_count": null,
   "metadata": {},
   "outputs": [],
   "source": []
  },
  {
   "cell_type": "markdown",
   "metadata": {},
   "source": [
    "### 2) How many countries are listed in this dataset?"
   ]
  },
  {
   "cell_type": "markdown",
   "metadata": {},
   "source": [
    "Get to know the data. Go to the website above (where it is downloaded from, look at the columns, variables, values, etc.). This is the Exploratory and cleaning phase of Data Analysis."
   ]
  },
  {
   "cell_type": "code",
   "execution_count": null,
   "metadata": {
    "collapsed": true
   },
   "outputs": [],
   "source": []
  },
  {
   "cell_type": "markdown",
   "metadata": {},
   "source": [
    "### 3) How many unique Indicators are there?"
   ]
  },
  {
   "cell_type": "code",
   "execution_count": null,
   "metadata": {
    "collapsed": true
   },
   "outputs": [],
   "source": []
  },
  {
   "cell_type": "markdown",
   "metadata": {},
   "source": [
    "### 4) Which indicator has the highest percent increase from 1960 to 2016?\n",
    "- percent increase you ask? [https://www.skillsyouneed.com/num/percent-change.html]"
   ]
  },
  {
   "cell_type": "code",
   "execution_count": null,
   "metadata": {
    "collapsed": true
   },
   "outputs": [],
   "source": []
  },
  {
   "cell_type": "markdown",
   "metadata": {},
   "source": [
    "### 5) Which country has the lowest infant mortality rate? Which has the highest?"
   ]
  },
  {
   "cell_type": "code",
   "execution_count": null,
   "metadata": {
    "collapsed": true
   },
   "outputs": [],
   "source": []
  },
  {
   "cell_type": "markdown",
   "metadata": {},
   "source": [
    "### 6) What metrics could be utilized to represent health?"
   ]
  },
  {
   "cell_type": "code",
   "execution_count": null,
   "metadata": {
    "collapsed": true
   },
   "outputs": [],
   "source": []
  },
  {
   "cell_type": "markdown",
   "metadata": {},
   "source": [
    "### 7) How many invalid data points can you find?"
   ]
  },
  {
   "cell_type": "code",
   "execution_count": null,
   "metadata": {
    "collapsed": true
   },
   "outputs": [],
   "source": []
  },
  {
   "cell_type": "markdown",
   "metadata": {},
   "source": [
    "### 8) Which metrics are highly correlated? (Hint: Transpose the dataset and use corr)\n",
    "\n",
    "- Great crash course on correlation measures (using pandas) from our pals Oracle [https://www.datascience.com/blog/introduction-to-correlation-learn-data-science-tutorials]\n",
    "- Covariance is something note hit on in the earlier slides, but something very important to measuring correlation. Take a minute to review stats 101. I've added a cheatsheet in the class folder. \n",
    "- Seminal Paper explaining your role in interpreting statistics, like correlation, \"Thirteen Ways to Look at the Correlation Coefficient\" [https://www.stat.berkeley.edu/~rabbee/correlation.pdf]"
   ]
  },
  {
   "cell_type": "code",
   "execution_count": null,
   "metadata": {
    "collapsed": true
   },
   "outputs": [],
   "source": []
  }
 ],
 "metadata": {
  "kernelspec": {
   "display_name": "Python 3",
   "language": "python",
   "name": "python3"
  },
  "language_info": {
   "codemirror_mode": {
    "name": "ipython",
    "version": 3
   },
   "file_extension": ".py",
   "mimetype": "text/x-python",
   "name": "python",
   "nbconvert_exporter": "python",
   "pygments_lexer": "ipython3",
   "version": "3.6.5"
  }
 },
 "nbformat": 4,
 "nbformat_minor": 2
}
