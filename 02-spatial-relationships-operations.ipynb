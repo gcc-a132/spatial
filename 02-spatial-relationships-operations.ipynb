{
 "cells": [
  {
   "cell_type": "markdown",
   "metadata": {},
   "source": [
    "# Spatial relationships and operations"
   ]
  },
  {
   "cell_type": "code",
   "execution_count": 1,
   "metadata": {},
   "outputs": [],
   "source": [
    "%matplotlib inline\n",
    "\n",
    "import pandas as pd\n",
    "import geopandas\n",
    "\n",
    "pd.options.display.max_rows = 10"
   ]
  },
  {
   "cell_type": "code",
   "execution_count": 2,
   "metadata": {},
   "outputs": [],
   "source": [
    "countries = geopandas.read_file(\"zip://./ne_110m_admin_0_countries.zip\")\n",
    "cities = geopandas.read_file(\"zip://./ne_110m_populated_places.zip\")\n",
    "rivers = geopandas.read_file(\"zip://./ne_50m_rivers_lake_centerlines.zip\")"
   ]
  },
  {
   "cell_type": "markdown",
   "metadata": {},
   "source": [
    "## Spatial relationships\n",
    "\n",
    "An important aspect of geospatial data is that we can look at *spatial relationships*: how two spatial objects relate to each other (whether they overlap, intersect, contain, .. one another).\n",
    "\n",
    "The topological, set-theoretic relationships in GIS are typically based on the DE-9IM model. See https://en.wikipedia.org/wiki/Spatial_relation for more information.\n",
    "\n",
    "![](img/TopologicSpatialRelarions2.png)\n",
    "(Image by [Krauss, CC BY-SA 3.0](https://en.wikipedia.org/wiki/Spatial_relation#/media/File:TopologicSpatialRelarions2.png))"
   ]
  },
  {
   "cell_type": "markdown",
   "metadata": {},
   "source": [
    "### Relationships between individual objects"
   ]
  },
  {
   "cell_type": "markdown",
   "metadata": {},
   "source": [
    "Let's first create some small toy spatial objects:\n",
    "\n",
    "A polygon <small>(note: we use `.squeeze()` here to to extract the scalar geometry object from the GeoSeries of length 1)</small>:"
   ]
  },
  {
   "cell_type": "code",
   "execution_count": 3,
   "metadata": {},
   "outputs": [],
   "source": [
    "belgium = countries.loc[countries['name'] == 'Belgium', 'geometry'].squeeze()\n"
   ]
  },
  {
   "cell_type": "markdown",
   "metadata": {},
   "source": [
    "Two points:"
   ]
  },
  {
   "cell_type": "code",
   "execution_count": 4,
   "metadata": {},
   "outputs": [],
   "source": [
    "paris = cities.loc[cities['NAME'] == 'Paris', 'geometry'].squeeze()\n",
    "brussels = cities.loc[cities['NAME'] == 'Brussels', 'geometry'].squeeze()"
   ]
  },
  {
   "cell_type": "markdown",
   "metadata": {},
   "source": [
    "And a linestring:"
   ]
  },
  {
   "cell_type": "code",
   "execution_count": 5,
   "metadata": {},
   "outputs": [],
   "source": [
    "from shapely.geometry import LineString\n",
    "line = LineString([paris, brussels])"
   ]
  },
  {
   "cell_type": "markdown",
   "metadata": {},
   "source": [
    "Let's visualize those 4 geometry objects together (I only put them in a GeoSeries to easily display them together with the geopandas `.plot()` method):"
   ]
  },
  {
   "cell_type": "code",
   "execution_count": 6,
   "metadata": {},
   "outputs": [
    {
     "data": {
      "text/plain": [
       "<matplotlib.axes._subplots.AxesSubplot at 0x23a45aaf470>"
      ]
     },
     "execution_count": 6,
     "metadata": {},
     "output_type": "execute_result"
    },
    {
     "data": {
      "image/png": "[encoded data removed]",
      "text/plain": [
       "<Figure size 432x288 with 1 Axes>"
      ]
     },
     "metadata": {},
     "output_type": "display_data"
    }
   ],
   "source": [
    "geopandas.GeoSeries([belgium, paris, brussels, line]).plot(cmap='tab10')"
   ]
  },
  {
   "cell_type": "markdown",
   "metadata": {},
   "source": [
    "You can recognize the abstract shape of Belgium.\n",
    "\n",
    "Brussels, the capital of Belgium, is thus located within Belgium. This is a spatial relationship, and we can test this using the individual shapely geometry objects as follow:"
   ]
  },
  {
   "cell_type": "code",
   "execution_count": 7,
   "metadata": {},
   "outputs": [
    {
     "data": {
      "text/plain": [
       "True"
      ]
     },
     "execution_count": 7,
     "metadata": {},
     "output_type": "execute_result"
    }
   ],
   "source": [
    "brussels.within(belgium)"
   ]
  },
  {
   "cell_type": "markdown",
   "metadata": {},
   "source": [
    "And using the reverse, Belgium contains Brussels:"
   ]
  },
  {
   "cell_type": "code",
   "execution_count": 8,
   "metadata": {},
   "outputs": [
    {
     "data": {
      "text/plain": [
       "True"
      ]
     },
     "execution_count": 8,
     "metadata": {},
     "output_type": "execute_result"
    }
   ],
   "source": [
    "belgium.contains(brussels)"
   ]
  },
  {
   "cell_type": "markdown",
   "metadata": {},
   "source": [
    "On the other hand, Paris is not located in Belgium:"
   ]
  },
  {
   "cell_type": "code",
   "execution_count": 9,
   "metadata": {},
   "outputs": [
    {
     "data": {
      "text/plain": [
       "False"
      ]
     },
     "execution_count": 9,
     "metadata": {},
     "output_type": "execute_result"
    }
   ],
   "source": [
    "belgium.contains(paris)"
   ]
  },
  {
   "cell_type": "code",
   "execution_count": 10,
   "metadata": {},
   "outputs": [
    {
     "data": {
      "text/plain": [
       "False"
      ]
     },
     "execution_count": 10,
     "metadata": {},
     "output_type": "execute_result"
    }
   ],
   "source": [
    "paris.within(belgium)"
   ]
  },
  {
   "cell_type": "markdown",
   "metadata": {},
   "source": [
    "The straight line we draw from Paris to Brussels is not fully located within Belgium, but it does intersect with it:"
   ]
  },
  {
   "cell_type": "code",
   "execution_count": 11,
   "metadata": {},
   "outputs": [
    {
     "data": {
      "text/plain": [
       "False"
      ]
     },
     "execution_count": 11,
     "metadata": {},
     "output_type": "execute_result"
    }
   ],
   "source": [
    "belgium.contains(line)"
   ]
  },
  {
   "cell_type": "code",
   "execution_count": 12,
   "metadata": {},
   "outputs": [
    {
     "data": {
      "text/plain": [
       "True"
      ]
     },
     "execution_count": 12,
     "metadata": {},
     "output_type": "execute_result"
    }
   ],
   "source": [
    "line.intersects(belgium)"
   ]
  },
  {
   "cell_type": "markdown",
   "metadata": {},
   "source": [
    "### Spatial relationships with GeoDataFrames\n",
    "\n",
    "The same methods that are available on individual `shapely` geometries as we have seen above, are also available as methods on `GeoSeries` / `GeoDataFrame` objects.\n",
    "\n",
    "For example, if we call the `contains` method on the world dataset with the `paris` point, it will do this spatial check for each country in the `world` dataframe:"
   ]
  },
  {
   "cell_type": "code",
   "execution_count": 7,
   "metadata": {},
   "outputs": [
    {
     "data": {
      "text/plain": [
       "0      False\n",
       "1      False\n",
       "2      False\n",
       "3      False\n",
       "4      False\n",
       "       ...  \n",
       "172    False\n",
       "173    False\n",
       "174    False\n",
       "175    False\n",
       "176    False\n",
       "Length: 177, dtype: bool"
      ]
     },
     "execution_count": 7,
     "metadata": {},
     "output_type": "execute_result"
    }
   ],
   "source": [
    "countries.contains(paris)"
   ]
  },
  {
   "cell_type": "markdown",
   "metadata": {},
   "source": [
    "Because the above gives us a boolean result, we can use that to filter the dataframe:"
   ]
  },
  {
   "cell_type": "code",
   "execution_count": 8,
   "metadata": {},
   "outputs": [
    {
     "data": {
      "text/html": [
       "<div>\n",
       "<style scoped>\n",
       "    .dataframe tbody tr th:only-of-type {\n",
       "        vertical-align: middle;\n",
       "    }\n",
       "\n",
       "    .dataframe tbody tr th {\n",
       "        vertical-align: top;\n",
       "    }\n",
       "\n",
       "    .dataframe thead th {\n",
       "        text-align: right;\n",
       "    }\n",
       "</style>\n",
       "<table border=\"1\" class=\"dataframe\">\n",
       "  <thead>\n",
       "    <tr style=\"text-align: right;\">\n",
       "      <th></th>\n",
       "      <th>scalerank</th>\n",
       "      <th>featurecla</th>\n",
       "      <th>labelrank</th>\n",
       "      <th>sovereignt</th>\n",
       "      <th>sov_a3</th>\n",
       "      <th>adm0_dif</th>\n",
       "      <th>level</th>\n",
       "      <th>type</th>\n",
       "      <th>admin</th>\n",
       "      <th>adm0_a3</th>\n",
       "      <th>...</th>\n",
       "      <th>continent</th>\n",
       "      <th>region_un</th>\n",
       "      <th>subregion</th>\n",
       "      <th>region_wb</th>\n",
       "      <th>name_len</th>\n",
       "      <th>long_len</th>\n",
       "      <th>abbrev_len</th>\n",
       "      <th>tiny</th>\n",
       "      <th>homepart</th>\n",
       "      <th>geometry</th>\n",
       "    </tr>\n",
       "  </thead>\n",
       "  <tbody>\n",
       "    <tr>\n",
       "      <th>55</th>\n",
       "      <td>1</td>\n",
       "      <td>Admin-0 country</td>\n",
       "      <td>2.0</td>\n",
       "      <td>France</td>\n",
       "      <td>FR1</td>\n",
       "      <td>1.0</td>\n",
       "      <td>2.0</td>\n",
       "      <td>Country</td>\n",
       "      <td>France</td>\n",
       "      <td>FRA</td>\n",
       "      <td>...</td>\n",
       "      <td>Europe</td>\n",
       "      <td>Europe</td>\n",
       "      <td>Western Europe</td>\n",
       "      <td>Europe &amp; Central Asia</td>\n",
       "      <td>6.0</td>\n",
       "      <td>6.0</td>\n",
       "      <td>3.0</td>\n",
       "      <td>-99.0</td>\n",
       "      <td>1.0</td>\n",
       "      <td>(POLYGON ((-52.55642473001839 2.50470530843705...</td>\n",
       "    </tr>\n",
       "  </tbody>\n",
       "</table>\n",
       "<p>1 rows × 64 columns</p>\n",
       "</div>"
      ],
      "text/plain": [
       "    scalerank       featurecla  labelrank sovereignt sov_a3  adm0_dif  level  \\\n",
       "55          1  Admin-0 country        2.0     France    FR1       1.0    2.0   \n",
       "\n",
       "       type   admin adm0_a3  \\\n",
       "55  Country  France     FRA   \n",
       "\n",
       "                          ...                          continent region_un  \\\n",
       "55                        ...                             Europe    Europe   \n",
       "\n",
       "         subregion              region_wb name_len long_len  abbrev_len  tiny  \\\n",
       "55  Western Europe  Europe & Central Asia      6.0      6.0         3.0 -99.0   \n",
       "\n",
       "   homepart                                           geometry  \n",
       "55      1.0  (POLYGON ((-52.55642473001839 2.50470530843705...  \n",
       "\n",
       "[1 rows x 64 columns]"
      ]
     },
     "execution_count": 8,
     "metadata": {},
     "output_type": "execute_result"
    }
   ],
   "source": [
    "countries[countries.contains(paris)]"
   ]
  },
  {
   "cell_type": "markdown",
   "metadata": {},
   "source": [
    "And indeed, France is the only country in the world in which Paris is located."
   ]
  },
  {
   "cell_type": "markdown",
   "metadata": {},
   "source": [
    "Another example, extracting the linestring of the Amazon river in South America, we can query through which countries the river flows:"
   ]
  },
  {
   "cell_type": "code",
   "execution_count": 9,
   "metadata": {},
   "outputs": [],
   "source": [
    "amazon = rivers[rivers['name'] == 'Amazonas'].geometry.squeeze()"
   ]
  },
  {
   "cell_type": "code",
   "execution_count": 10,
   "metadata": {
    "scrolled": true
   },
   "outputs": [
    {
     "data": {
      "text/html": [
       "<div>\n",
       "<style scoped>\n",
       "    .dataframe tbody tr th:only-of-type {\n",
       "        vertical-align: middle;\n",
       "    }\n",
       "\n",
       "    .dataframe tbody tr th {\n",
       "        vertical-align: top;\n",
       "    }\n",
       "\n",
       "    .dataframe thead th {\n",
       "        text-align: right;\n",
       "    }\n",
       "</style>\n",
       "<table border=\"1\" class=\"dataframe\">\n",
       "  <thead>\n",
       "    <tr style=\"text-align: right;\">\n",
       "      <th></th>\n",
       "      <th>scalerank</th>\n",
       "      <th>featurecla</th>\n",
       "      <th>labelrank</th>\n",
       "      <th>sovereignt</th>\n",
       "      <th>sov_a3</th>\n",
       "      <th>adm0_dif</th>\n",
       "      <th>level</th>\n",
       "      <th>type</th>\n",
       "      <th>admin</th>\n",
       "      <th>adm0_a3</th>\n",
       "      <th>...</th>\n",
       "      <th>continent</th>\n",
       "      <th>region_un</th>\n",
       "      <th>subregion</th>\n",
       "      <th>region_wb</th>\n",
       "      <th>name_len</th>\n",
       "      <th>long_len</th>\n",
       "      <th>abbrev_len</th>\n",
       "      <th>tiny</th>\n",
       "      <th>homepart</th>\n",
       "      <th>geometry</th>\n",
       "    </tr>\n",
       "  </thead>\n",
       "  <tbody>\n",
       "    <tr>\n",
       "      <th>22</th>\n",
       "      <td>1</td>\n",
       "      <td>Admin-0 country</td>\n",
       "      <td>2.0</td>\n",
       "      <td>Brazil</td>\n",
       "      <td>BRA</td>\n",
       "      <td>0.0</td>\n",
       "      <td>2.0</td>\n",
       "      <td>Sovereign country</td>\n",
       "      <td>Brazil</td>\n",
       "      <td>BRA</td>\n",
       "      <td>...</td>\n",
       "      <td>South America</td>\n",
       "      <td>Americas</td>\n",
       "      <td>South America</td>\n",
       "      <td>Latin America &amp; Caribbean</td>\n",
       "      <td>6.0</td>\n",
       "      <td>6.0</td>\n",
       "      <td>6.0</td>\n",
       "      <td>-99.0</td>\n",
       "      <td>1.0</td>\n",
       "      <td>POLYGON ((-57.62513342958296 -30.2162948544542...</td>\n",
       "    </tr>\n",
       "    <tr>\n",
       "      <th>35</th>\n",
       "      <td>1</td>\n",
       "      <td>Admin-0 country</td>\n",
       "      <td>2.0</td>\n",
       "      <td>Colombia</td>\n",
       "      <td>COL</td>\n",
       "      <td>0.0</td>\n",
       "      <td>2.0</td>\n",
       "      <td>Sovereign country</td>\n",
       "      <td>Colombia</td>\n",
       "      <td>COL</td>\n",
       "      <td>...</td>\n",
       "      <td>South America</td>\n",
       "      <td>Americas</td>\n",
       "      <td>South America</td>\n",
       "      <td>Latin America &amp; Caribbean</td>\n",
       "      <td>8.0</td>\n",
       "      <td>8.0</td>\n",
       "      <td>4.0</td>\n",
       "      <td>-99.0</td>\n",
       "      <td>1.0</td>\n",
       "      <td>POLYGON ((-75.37322323271385 -0.15203175212045...</td>\n",
       "    </tr>\n",
       "    <tr>\n",
       "      <th>124</th>\n",
       "      <td>1</td>\n",
       "      <td>Admin-0 country</td>\n",
       "      <td>2.0</td>\n",
       "      <td>Peru</td>\n",
       "      <td>PER</td>\n",
       "      <td>0.0</td>\n",
       "      <td>2.0</td>\n",
       "      <td>Sovereign country</td>\n",
       "      <td>Peru</td>\n",
       "      <td>PER</td>\n",
       "      <td>...</td>\n",
       "      <td>South America</td>\n",
       "      <td>Americas</td>\n",
       "      <td>South America</td>\n",
       "      <td>Latin America &amp; Caribbean</td>\n",
       "      <td>4.0</td>\n",
       "      <td>4.0</td>\n",
       "      <td>4.0</td>\n",
       "      <td>-99.0</td>\n",
       "      <td>1.0</td>\n",
       "      <td>POLYGON ((-69.59042375352405 -17.5800118954193...</td>\n",
       "    </tr>\n",
       "  </tbody>\n",
       "</table>\n",
       "<p>3 rows × 64 columns</p>\n",
       "</div>"
      ],
      "text/plain": [
       "     scalerank       featurecla  labelrank sovereignt sov_a3  adm0_dif  level  \\\n",
       "22           1  Admin-0 country        2.0     Brazil    BRA       0.0    2.0   \n",
       "35           1  Admin-0 country        2.0   Colombia    COL       0.0    2.0   \n",
       "124          1  Admin-0 country        2.0       Peru    PER       0.0    2.0   \n",
       "\n",
       "                  type     admin adm0_a3  \\\n",
       "22   Sovereign country    Brazil     BRA   \n",
       "35   Sovereign country  Colombia     COL   \n",
       "124  Sovereign country      Peru     PER   \n",
       "\n",
       "                           ...                              continent  \\\n",
       "22                         ...                          South America   \n",
       "35                         ...                          South America   \n",
       "124                        ...                          South America   \n",
       "\n",
       "    region_un      subregion                  region_wb name_len long_len  \\\n",
       "22   Americas  South America  Latin America & Caribbean      6.0      6.0   \n",
       "35   Americas  South America  Latin America & Caribbean      8.0      8.0   \n",
       "124  Americas  South America  Latin America & Caribbean      4.0      4.0   \n",
       "\n",
       "     abbrev_len  tiny homepart  \\\n",
       "22          6.0 -99.0      1.0   \n",
       "35          4.0 -99.0      1.0   \n",
       "124         4.0 -99.0      1.0   \n",
       "\n",
       "                                              geometry  \n",
       "22   POLYGON ((-57.62513342958296 -30.2162948544542...  \n",
       "35   POLYGON ((-75.37322323271385 -0.15203175212045...  \n",
       "124  POLYGON ((-69.59042375352405 -17.5800118954193...  \n",
       "\n",
       "[3 rows x 64 columns]"
      ]
     },
     "execution_count": 10,
     "metadata": {},
     "output_type": "execute_result"
    }
   ],
   "source": [
    "countries[countries.crosses(amazon)]  # or .intersects"
   ]
  },
  {
   "cell_type": "markdown",
   "metadata": {},
   "source": [
    "<div class=\"alert alert-info\" style=\"font-size:120%\">\n",
    "<b>REFERENCE</b>: <br><br>\n",
    "\n",
    "Overview of the different functions to check spatial relationships (*spatial predicate functions*):\n",
    "\n",
    "<ul>\n",
    "  <li>`equals`</li>\n",
    "  <li>`contains`</li>\n",
    "  <li>`crosses`</li>\n",
    "  <li>`disjoint`</li>\n",
    "  <li>`intersects`</li>\n",
    "  <li>`overlaps`</li>\n",
    "  <li>`touches`</li>\n",
    "  <li>`within`</li>\n",
    "  <li>`covers`</li>\n",
    "</ul>\n",
    "\n",
    "<p>\n",
    "See https://shapely.readthedocs.io/en/stable/manual.html#predicates-and-relationships for an overview of those methods.\n",
    "<p></p>\n",
    "See https://en.wikipedia.org/wiki/DE-9IM for all details on the semantics of those operations.\n",
    "</p>\n",
    "</div>"
   ]
  },
  {
   "cell_type": "markdown",
   "metadata": {},
   "source": [
    "## Spatial operations\n",
    "\n",
    "Next to the spatial predicates that return boolean values, Shapely and GeoPandas aslo provide analysis methods that return new geometric objects.\n",
    "\n",
    "See https://shapely.readthedocs.io/en/stable/manual.html#spatial-analysis-methods for more details."
   ]
  },
  {
   "cell_type": "markdown",
   "metadata": {},
   "source": [
    "For example, using the toy data from above, let's construct a buffer around Brussels (which returns a Polygon):"
   ]
  },
  {
   "cell_type": "code",
   "execution_count": 17,
   "metadata": {},
   "outputs": [
    {
     "data": {
      "text/plain": [
       "<matplotlib.axes._subplots.AxesSubplot at 0x29297ec1b00>"
      ]
     },
     "execution_count": 17,
     "metadata": {},
     "output_type": "execute_result"
    },
    {
     "data": {
      "image/png": "[encoded data removed]",
      "text/plain": [
       "<Figure size 432x288 with 1 Axes>"
      ]
     },
     "metadata": {},
     "output_type": "display_data"
    }
   ],
   "source": [
    "geopandas.GeoSeries([belgium, brussels.buffer(1)]).plot(alpha=0.5, cmap='tab10')"
   ]
  },
  {
   "cell_type": "markdown",
   "metadata": {},
   "source": [
    "and now take the intersection, union or difference of those two polygons:"
   ]
  },
  {
   "cell_type": "code",
   "execution_count": 11,
   "metadata": {},
   "outputs": [
    {
     "data": {
      "image/svg+xml": [
       "<svg xmlns=\"http://www.w3.org/2000/svg\" xmlns:xlink=\"http://www.w3.org/1999/xlink\" width=\"100.0\" height=\"100.0\" viewBox=\"3.25137074969045 49.827496649772556 2.16 1.727527058925574\" preserveAspectRatio=\"xMinYMin meet\"><g transform=\"matrix(1,0,0,-1,0,101.38252035847069)\"><path fill-rule=\"evenodd\" fill=\"#66cc99\" stroke=\"#555555\" stroke-width=\"0.0432\" opacity=\"0.6\" d=\"M 5.33137074969045,50.83526293533032 L 5.326555476362647,50.73724579500076 L 5.31215603009368,50.64017261331419 L 5.2883110854226585,50.54497825807586 L 5.255250282201737,50.45257950296523 L 5.213292014038805,50.363866198504326 L 5.162840361992996,50.27969270231072 L 5.104381203053188,50.20086965116668 L 5.038477530876998,50.128156154143774 L 4.9657640338540965,50.06225248196758 L 4.886940982710053,50.00379332302778 L 4.829705194957643,49.969487512067865 L 4.79922163251581,49.985373033236385 L 4.2860229834250845,49.907496649772554 L 3.5881844417556863,50.37899241800358 L 3.368503352425648,50.56864041409415 L 3.3505854692872195,50.64017261331419 L 3.336186023018253,50.73724579500076 L 3.33137074969045,50.83526293533032 L 3.3361860230182527,50.93328007565988 L 3.3505854692872195,51.03035325734645 L 3.374430413958241,51.12554761258478 L 3.407491217179163,51.21794636769541 L 3.4494494853420945,51.306659672156314 L 3.463358506560526,51.32986547210759 L 4.047071160507528,51.26725861266857 L 4.973991326526914,51.47502370869813 L 5.210342370848309,51.311580854512094 L 5.213292014038802,51.30665967215632 L 5.255250282201734,51.21794636769542 L 5.288311085422657,51.12554761258479 L 5.3121560300936785,51.030353257346455 L 5.326555476362646,50.93328007565989 L 5.33137074969045,50.83526293533033 L 5.33137074969045,50.83526293533032 z\" /></g></svg>"
      ],
      "text/plain": [
       "<shapely.geometry.polygon.Polygon at 0x23a45b4d278>"
      ]
     },
     "execution_count": 11,
     "metadata": {},
     "output_type": "execute_result"
    }
   ],
   "source": [
    "brussels.buffer(1).intersection(belgium)\n",
    "c"
   ]
  },
  {
   "cell_type": "code",
   "execution_count": 12,
   "metadata": {},
   "outputs": [
    {
     "data": {
      "image/svg+xml": [
       "<svg xmlns=\"http://www.w3.org/2000/svg\" xmlns:xlink=\"http://www.w3.org/1999/xlink\" width=\"100.0\" height=\"100.0\" viewBox=\"2.367849627297637 49.383760142609 3.9345319336096485 2.5972261976698263\" preserveAspectRatio=\"xMinYMin meet\"><g transform=\"matrix(1,0,0,-1,0,101.36474648288782)\"><path fill-rule=\"evenodd\" fill=\"#66cc99\" stroke=\"#555555\" stroke-width=\"0.07869063867219298\" opacity=\"0.6\" d=\"M 4.829705194957643,49.969487512067865 L 4.802767486516449,49.95334167098196 L 4.71405418205554,49.911383402819034 L 4.621655426944914,49.878322599598114 L 4.52646107170658,49.85447765492709 L 4.429387890020012,49.84007820865812 L 4.331370749690452,49.83526293533032 L 4.233353609360891,49.84007820865812 L 4.136280427674324,49.85447765492709 L 4.04108607243599,49.87832259959811 L 3.948687317325362,49.911383402819034 L 3.859974012864454,49.95334167098196 L 3.7758005166708495,50.00379332302777 L 3.696977465526806,50.06225248196758 L 3.6242639685039038,50.128156154143774 L 3.558360296327714,50.20086965116667 L 3.4999011373879054,50.27969270231072 L 3.449449485342096,50.36386619850432 L 3.407491217179164,50.45257950296523 L 3.3744304139582413,50.54497825807586 L 3.368503352425648,50.56864041409415 L 3.1232515804258014,50.780363267614575 L 2.658422071960274,50.796848049515745 L 2.5135730322461427,51.14850617126183 L 3.3149711442285366,51.345780951536085 L 3.463358506560526,51.32986547210759 L 3.4999011373879045,51.39083316834992 L 3.558360296327713,51.46965621949396 L 3.624263968503902,51.542369716516866 L 3.696977465526804,51.60827338869306 L 3.775800516670847,51.66673254763286 L 3.859974012864451,51.71718419967868 L 3.9486873173253585,51.759142467841606 L 4.041086072435986,51.792203271062526 L 4.136280427674319,51.81604821573355 L 4.233353609360886,51.83044766200252 L 4.331370749690447,51.83526293533032 L 4.429387890020007,51.83044766200252 L 4.526461071706574,51.81604821573355 L 4.621655426944908,51.79220327106253 L 4.714054182055536,51.759142467841606 L 4.802767486516443,51.71718419967868 L 4.886940982710048,51.66673254763287 L 4.965764033854091,51.60827338869306 L 5.038477530876993,51.54236971651687 L 5.104381203053183,51.46965621949397 L 5.162840361992991,51.39083316834993 L 5.210342370848309,51.311580854512094 L 5.606975945670001,51.03729848896978 L 6.15665815595878,50.80372101501058 L 6.043073357781111,50.128051662794235 L 5.782417433300907,50.09032786722122 L 5.674051954784829,49.529483547557504 L 4.829705194957643,49.969487512067865 z\" /></g></svg>"
      ],
      "text/plain": [
       "<shapely.geometry.polygon.Polygon at 0x23a45b4de10>"
      ]
     },
     "execution_count": 12,
     "metadata": {},
     "output_type": "execute_result"
    }
   ],
   "source": [
    "brussels.buffer(1).union(belgium)"
   ]
  },
  {
   "cell_type": "code",
   "execution_count": 13,
   "metadata": {},
   "outputs": [
    {
     "data": {
      "image/svg+xml": [
       "<svg xmlns=\"http://www.w3.org/2000/svg\" xmlns:xlink=\"http://www.w3.org/1999/xlink\" width=\"100.0\" height=\"100.0\" viewBox=\"3.2885033524256477 49.75526293533032 2.0018390184226615 2.1599999999999966\" preserveAspectRatio=\"xMinYMin meet\"><g transform=\"matrix(1,0,0,-1,0,101.67052587066064)\"><g><path fill-rule=\"evenodd\" fill=\"#66cc99\" stroke=\"#555555\" stroke-width=\"0.04319999999999993\" opacity=\"0.6\" d=\"M 4.829705194957643,49.969487512067865 L 4.802767486516449,49.95334167098196 L 4.71405418205554,49.911383402819034 L 4.621655426944914,49.878322599598114 L 4.52646107170658,49.85447765492709 L 4.429387890020012,49.84007820865812 L 4.331370749690452,49.83526293533032 L 4.233353609360891,49.84007820865812 L 4.136280427674324,49.85447765492709 L 4.04108607243599,49.87832259959811 L 3.948687317325362,49.911383402819034 L 3.859974012864454,49.95334167098196 L 3.7758005166708495,50.00379332302777 L 3.696977465526806,50.06225248196758 L 3.6242639685039038,50.128156154143774 L 3.558360296327714,50.20086965116667 L 3.4999011373879054,50.27969270231072 L 3.449449485342096,50.36386619850432 L 3.407491217179164,50.45257950296523 L 3.3744304139582413,50.54497825807586 L 3.368503352425648,50.56864041409415 L 3.5881844417556863,50.37899241800358 L 4.2860229834250845,49.907496649772554 L 4.79922163251581,49.985373033236385 L 4.829705194957643,49.969487512067865 z\" /><path fill-rule=\"evenodd\" fill=\"#66cc99\" stroke=\"#555555\" stroke-width=\"0.04319999999999993\" opacity=\"0.6\" d=\"M 3.463358506560526,51.32986547210759 L 3.4999011373879045,51.39083316834992 L 3.558360296327713,51.46965621949396 L 3.624263968503902,51.542369716516866 L 3.696977465526804,51.60827338869306 L 3.775800516670847,51.66673254763286 L 3.859974012864451,51.71718419967868 L 3.9486873173253585,51.759142467841606 L 4.041086072435986,51.792203271062526 L 4.136280427674319,51.81604821573355 L 4.233353609360886,51.83044766200252 L 4.331370749690447,51.83526293533032 L 4.429387890020007,51.83044766200252 L 4.526461071706574,51.81604821573355 L 4.621655426944908,51.79220327106253 L 4.714054182055536,51.759142467841606 L 4.802767486516443,51.71718419967868 L 4.886940982710048,51.66673254763287 L 4.965764033854091,51.60827338869306 L 5.038477530876993,51.54236971651687 L 5.104381203053183,51.46965621949397 L 5.162840361992991,51.39083316834993 L 5.210342370848309,51.311580854512094 L 4.973991326526914,51.47502370869813 L 4.047071160507528,51.26725861266857 L 3.463358506560526,51.32986547210759 z\" /></g></g></svg>"
      ],
      "text/plain": [
       "<shapely.geometry.multipolygon.MultiPolygon at 0x23a45b4df98>"
      ]
     },
     "execution_count": 13,
     "metadata": {},
     "output_type": "execute_result"
    }
   ],
   "source": [
    "brussels.buffer(1).difference(belgium)"
   ]
  },
  {
   "cell_type": "markdown",
   "metadata": {},
   "source": [
    "Another useful method is the `unary_union` attribute, which converts the set of geometry objects in a GeoDataFrame into a single geometry object by taking the union of all those geometries.\n",
    "\n",
    "For example, we can construct a single object for the Africa continent:"
   ]
  },
  {
   "cell_type": "code",
   "execution_count": 14,
   "metadata": {},
   "outputs": [],
   "source": [
    "africa_countries = countries[countries['continent'] == 'Africa']"
   ]
  },
  {
   "cell_type": "code",
   "execution_count": 15,
   "metadata": {},
   "outputs": [],
   "source": [
    "africa = africa_countries.unary_union"
   ]
  },
  {
   "cell_type": "code",
   "execution_count": 16,
   "metadata": {},
   "outputs": [
    {
     "data": {
      "image/svg+xml": [
       "<svg xmlns=\"http://www.w3.org/2000/svg\" xmlns:xlink=\"http://www.w3.org/1999/xlink\" width=\"100.0\" height=\"100.0\" viewBox=\"-20.51180912116627 -37.70593278579932 74.53244555184187 77.94269362824147\" preserveAspectRatio=\"xMinYMin meet\"><g transform=\"matrix(1,0,0,-1,0,2.5308280566428323)\"><g><path fill-rule=\"evenodd\" fill=\"#66cc99\" stroke=\"#555555\" stroke-width=\"1.5588538725648293\" opacity=\"0.6\" d=\"M 49.54351891459575,-12.469832858940554 L 49.808980747279094,-12.895284925999555 L 50.056510857957164,-13.555761407121985 L 50.21743126811407,-14.758788750876796 L 50.47653689962553,-15.226512139550543 L 50.377111443895956,-15.706069431219127 L 50.20027469259318,-16.000263360256767 L 49.86060550313868,-15.414252618066918 L 49.67260664246086,-15.710203545802479 L 49.863344354050156,-16.451036879138776 L 49.77456424337271,-16.8750420060936 L 49.49861209493412,-17.106035658438273 L 49.435618523970305,-17.953064060134366 L 49.041792433473944,-19.118781019774445 L 48.54854088724801,-20.496888116134127 L 47.93074913919867,-22.391501153251085 L 47.54772342305131,-23.781958916928517 L 47.095761346226595,-24.941629733990453 L 46.282477654817086,-25.178462823184105 L 45.40950768411045,-25.60143442149309 L 44.833573846217554,-25.34610116953894 L 44.03972049334976,-24.988345228782308 L 43.76376834491117,-24.46067717864999 L 43.697777540874455,-23.574116306250602 L 43.345654331237625,-22.776903985283873 L 43.254187046081,-22.057413018484123 L 43.43329756040464,-21.33647511158019 L 43.893682895692926,-21.16330738697013 L 43.896370070172104,-20.830459486578174 L 44.37432539243966,-20.07236622485639 L 44.46439741392439,-19.435454196859048 L 44.23242190936617,-18.961994724200906 L 44.042976108584156,-18.33138722094317 L 43.96308434426091,-17.409944756746782 L 44.31246870298628,-16.850495700754955 L 44.4465173683514,-16.216219170804507 L 44.94493655780653,-16.1793738745804 L 45.50273196796499,-15.97437346767854 L 45.87299360533626,-15.793454278224687 L 46.31224327981721,-15.780018405828798 L 46.882182651564285,-15.210182386946315 L 47.70512983581236,-14.594302666891764 L 48.005214878131255,-14.091232598530375 L 47.869047479042166,-13.663868503476586 L 48.29382775248138,-13.784067884987486 L 48.84506025573879,-13.089174899958664 L 48.86350874206698,-12.48786793381042 L 49.194651320193316,-12.04055673589197 L 49.54351891459575,-12.469832858940554 z\" /><path fill-rule=\"evenodd\" fill=\"#66cc99\" stroke=\"#555555\" stroke-width=\"1.5588538725648293\" opacity=\"0.6\" d=\"M -7.7121593896697505,4.364565944837722 L -7.974107224957251,4.355755113131963 L -9.004793667018674,4.8324185245922 L -9.913420376006684,5.593560695819207 L -10.765383876986645,6.140710760925558 L -11.438779466182055,6.7859168563057475 L -11.70819454593574,6.860098374860726 L -12.428098924193819,7.26294200279203 L -12.949049038128194,7.798645738145738 L -13.124025437868482,8.163946438016978 L -13.246550258832515,8.903048610871508 L -13.685153977909792,9.49474376061346 L -14.074044969122282,9.886166897008252 L -14.33007585291237,10.015719712763968 L -14.579698859098258,10.214467271358515 L -14.693231980843505,10.656300767454042 L -14.839553798877944,10.87657156009814 L -15.130311245168173,11.040411688679526 L -15.664180467175527,11.458474025920795 L -16.085214199273565,11.52459402103824 L -16.314786749730203,11.80651479740655 L -16.30894731288123,11.95870189050612 L -16.61383826340328,12.170911159712702 L -16.677451951554573,12.384851589401052 L -16.841524624081273,13.15139394780256 L -16.71372880702347,13.594958604379855 L -17.126106736712615,14.373515733289224 L -17.62504269049066,14.729540513564073 L -17.18517289882223,14.919477240452862 L -16.700706346085923,15.621527411354108 L -16.463098110407884,16.13503611903846 L -16.549707810929064,16.673892116761962 L -16.270551723688357,17.166962795474873 L -16.14634741867485,18.108481553616656 L -16.256883307347167,19.096715806550307 L -16.37765112961327,19.593817246981985 L -16.277838100641517,20.0925206568147 L -16.536323614965468,20.567866319251493 L -17.06342322434257,20.999752102130827 L -17.020428432675743,21.42231028898148 L -17.00296179856109,21.420734157796577 L -14.750954555713534,21.500600083903663 L -14.750954555713488,21.5006000839038 L -17.002961798561074,21.420734157796687 L -17.02042843267577,21.422310288981635 L -16.973247849993186,21.885744533774954 L -16.58913692876763,22.158234361250095 L -16.261921759495664,22.679339504481277 L -16.3264139469959,23.017768459560898 L -15.982610642958065,23.723358466074103 L -15.426003790742186,24.35913361256104 L -15.089331834360735,24.52026072844697 L -14.824645148161693,25.103532619725314 L -14.800925665739669,25.63626496022229 L -14.439939947964831,26.254418443297652 L -13.773804897506466,26.618892320252286 L -13.139941779014293,27.640147813420498 L -13.121613369914712,27.654147671719812 L -12.618836635783111,28.038185533148663 L -11.688919236690765,28.148643907172584 L -10.900956997104402,28.83214223888092 L -10.399592251008642,29.09858592377779 L -9.564811163765626,29.933573716749862 L -9.814718390329176,31.17773550060906 L -9.434793260119363,32.038096421836485 L -9.300692918321829,32.564679266890636 L -8.65747636558504,33.2402452662424 L -7.6541784326382185,33.69706492770251 L -6.91254411460136,34.11047638603745 L -6.2443420068514115,35.145865383437524 L -5.929994269219833,35.75998810479399 L -5.193863491222032,35.75518219659085 L -4.591006232105144,35.33071198174565 L -3.6400565250700083,35.39985504815198 L -2.604305792644112,35.17909332940113 L -2.169913702798624,35.16839630791671 L -2.1699137027986115,35.16839630791669 L -1.208602871089056,35.7148487411871 L -0.12745439289460592,35.888662421200806 L 0.5038765804152092,36.30127289483528 L 1.466918572606545,36.605647081034405 L 3.1616988460508253,36.78390493422522 L 4.81575809084913,36.86503693292346 L 5.3201200700177935,36.71651886651662 L 6.261819695672613,37.11065501560674 L 7.330384962603971,37.11838064223437 L 7.737078484741005,36.885707505840216 L 8.420964389691676,36.94642731378316 L 9.509993523810607,37.349994411766545 L 10.210002475636317,37.230001735984814 L 10.180650262094531,36.724037787415085 L 11.02886722173335,37.09210317641396 L 11.100025668999251,36.899996039368915 L 10.600004510143094,36.410000108377375 L 10.593286573945138,35.94744436293281 L 10.939518670300687,35.698984076473494 L 10.807847120821009,34.83350718844919 L 10.149592726287125,34.33077301689771 L 10.339658644256616,33.78574168551532 L 10.856836378633687,33.76874013929128 L 11.108500603895122,33.293342800422195 L 11.488787469131005,33.13699575452314 L 11.488787469131012,33.13699575452324 L 12.663310000000024,32.79278000000005 L 13.083260000000053,32.878820000000076 L 13.918679999999995,32.71196000000009 L 15.245630000000006,32.26508000000007 L 15.713939999999923,31.376259999999945 L 16.611620000000016,31.18217999999996 L 18.02108999999996,30.76356999999996 L 19.08641,30.26639 L 19.574040000000082,30.52582000000001 L 20.053349999999966,30.985760000000028 L 19.82033000000007,31.751790000000142 L 20.13396999999992,32.238200000000006 L 20.854520000000093,32.70679999999999 L 21.54298,32.843200000000024 L 22.895760000000053,32.63857999999999 L 23.236800000000017,32.191490000000044 L 23.609130000000107,32.18725999999998 L 23.92750000000001,32.01667000000009 L 24.921139999999923,31.89936 L 25.164820000000077,31.569150000000093 L 25.164820000000006,31.56915 L 26.49533,31.58568 L 27.457620000000002,31.32126 L 28.450480000000002,31.025769999999998 L 28.913529999999998,30.87005 L 29.683419999999998,31.186860000000003 L 30.09503,31.4734 L 30.976930000000003,31.55586 L 31.687960000000004,31.4296 L 31.96041,30.933600000000002 L 32.19247,31.26034 L 32.99392,31.024070000000002 L 33.7734,30.967460000000003 L 34.265440000000005,31.219359999999998 L 34.9226,29.50133 L 34.64174,29.099420000000002 L 34.42655,28.343989999999998 L 34.15451,27.8233 L 33.92136,27.6487 L 33.58811,27.97136 L 33.13676,28.417650000000002 L 32.423230000000004,29.851080000000003 L 32.32046,29.76043 L 32.73482,28.70523 L 33.34876,27.69989 L 34.10455,26.14227 L 34.473870000000005,25.598560000000003 L 34.79507,25.03375 L 35.69241,23.92671 L 35.49372,23.752370000000003 L 35.52598,23.10244 L 36.690690000000004,22.20485 L 36.86623,22.0 L 36.86622999999997,22.0 L 37.1887200000001,21.018850000000043 L 36.969409999999925,20.83744000000013 L 37.11470000000014,19.807960000000094 L 37.4817900000001,18.61409000000009 L 37.862760000000094,18.36785999999995 L 38.410089959473225,17.998307399970315 L 38.990622999840014,16.840626125551694 L 39.26611006038803,15.92272349696725 L 39.814293654140215,15.435647284400318 L 41.17927493669765,14.491079616753211 L 41.73495161313235,13.921036892141558 L 42.27683068214486,13.343992010954423 L 42.58957645037526,13.000421250861905 L 43.08122602720016,12.699638576707116 L 43.31785241066467,12.390148423711025 L 43.286381463398925,11.974928290245884 L 42.715873650896526,11.735640570518342 L 43.14530480324214,11.462039699748857 L 43.470659620951665,11.277709865763882 L 43.66666832863484,10.86416921634816 L 44.11780358254282,10.445538438351605 L 44.614259067570856,10.442205308468942 L 45.55694054543915,10.698029486529776 L 46.645401238803004,10.816549383991173 L 47.525657586462785,11.12722809492999 L 48.02159630716778,11.193063869669743 L 48.37878380716927,11.375481675660126 L 48.94820641459347,11.41062164961852 L 48.94820475850985,11.41061728169797 L 49.26776,11.43033 L 49.72862,11.5789 L 50.25878000000001,11.67957 L 50.73202,12.021900000000002 L 51.1112,12.024640000000002 L 51.13387,11.74815 L 51.04153,11.16651 L 51.04531,10.6409 L 50.834179999999996,10.279720000000001 L 50.55239,9.19874 L 50.07092,8.08173 L 49.45270000000001,6.80466 L 48.594550000000005,5.339110000000001 L 47.740790000000004,4.2194 L 46.56476,2.85529 L 45.563990000000004,2.04576 L 44.068149999999996,1.0528300000000002 L 43.13597,0.2922 L 42.04157000000001,-0.9191600000000001 L 41.81095,-1.4464700000000001 L 41.58513,-1.6832500000000001 L 40.88477,-2.08255 L 40.63785000000001,-2.49979 L 40.26304000000001,-2.57309 L 40.12119,-3.27768 L 39.80006,-3.68116 L 39.604890000000005,-4.3465300000000004 L 39.202220000000054,-4.676769999999952 L 38.74053999999995,-5.9089499999999475 L 38.79977000000008,-6.475660000000005 L 39.44,-6.839999999999861 L 39.47000000000014,-7.099999999999966 L 39.19468999999998,-7.703899999999976 L 39.25203000000005,-8.00780999999995 L 39.18652000000009,-8.48550999999992 L 39.53574000000009,-9.112369999999885 L 39.94960000000003,-10.098400000000026 L 40.316586229110854,-10.317097752817492 L 40.31658857601719,-10.317096042525698 L 40.47838748552303,-10.765440769089993 L 40.437253045418686,-11.761710707245015 L 40.56081139502857,-12.639176527561027 L 40.59962039567975,-14.201975192931862 L 40.775475294768995,-14.691764418194241 L 40.4772506040126,-15.406294447493972 L 40.08926395036522,-16.10077402106446 L 39.45255862809705,-16.72089120856694 L 38.53835086442152,-17.101023044505958 L 37.41113284683888,-17.586368096591237 L 36.28127933120936,-18.65968759529345 L 35.89649661636406,-18.842260430580637 L 35.198399692533144,-19.552811374593894 L 34.78638349787005,-19.784011732667736 L 34.70189253107284,-20.49704314543101 L 35.176127150215365,-21.25436126066841 L 35.37342776870574,-21.840837090748877 L 35.385848253705404,-22.14 L 35.562545536369086,-22.090000000000003 L 35.533934767404304,-23.070787855727758 L 35.37177412287238,-23.5353589820317 L 35.60747033055563,-23.706563002214683 L 35.45874555841962,-24.12260995859655 L 35.04073489761066,-24.478350518493805 L 34.21582400893547,-24.81631438568266 L 33.01321007663901,-25.357573337507738 L 32.574632195777866,-25.727318210556092 L 32.66036339695009,-26.148584486599447 L 32.91595503106569,-26.215867201443466 L 32.830120477028885,-26.742191664336197 L 32.580264926897684,-27.470157566031816 L 32.46213260267845,-28.301011244420557 L 32.20338870619304,-28.75240488049007 L 31.521001417778876,-29.257386976846256 L 31.325561150851,-29.401977634398914 L 30.901762729625347,-29.909956963828037 L 30.62281334811382,-30.42377573010613 L 30.05571618014278,-31.140269463832958 L 28.92555260591954,-32.1720411109725 L 28.2197558936771,-32.771952813448856 L 27.464608188595975,-33.2269637997788 L 26.419452345492825,-33.61495045342619 L 25.90966434093349,-33.6670402971764 L 25.780628289500697,-33.94464609144834 L 25.172861769315972,-33.796851495093584 L 24.677853224392123,-33.98717579522455 L 23.594043409934642,-33.794474379208154 L 22.988188917744736,-33.91643075941698 L 22.574157342222236,-33.86408253350531 L 21.542799106541025,-34.258838799782936 L 20.689052768647002,-34.417175388325234 L 20.071261020597632,-34.79513681410799 L 19.61640506356457,-34.81916635512371 L 19.193278435958717,-34.46259897230979 L 18.85531456876987,-34.444305515278465 L 18.42464318204938,-33.99787281670897 L 18.377410922934615,-34.13652068454807 L 18.24449913907992,-33.86775156019803 L 18.250080193767445,-33.28143075941444 L 17.92519046394844,-32.61129078545343 L 18.247909783611192,-32.42913136162457 L 18.22176150887148,-31.66163298922567 L 17.56691775886887,-30.725721123987547 L 17.064416131262703,-29.878641045859162 L 17.062917514726223,-29.875953871379984 L 16.344976840895242,-28.5767050106977 L 15.601818068105816,-27.821247247022804 L 15.21047244635946,-27.090955905874047 L 14.989710727608553,-26.117371921495156 L 14.743214145576331,-25.39292001719538 L 14.408144158595833,-23.853014011329847 L 14.385716586981149,-22.65665292734069 L 14.257714064194175,-22.111208184499958 L 13.86864220546866,-21.699036960539978 L 13.35249799973744,-20.872834161057504 L 12.826845330464494,-19.673165785401665 L 12.608564080463621,-19.0453488094877 L 11.794918654028066,-18.069129327061916 L 11.734198846085121,-17.301889336824473 L 11.734198846085144,-17.301889336824463 L 11.64009606288161,-16.67314218512921 L 11.778537224991567,-15.79381601325069 L 12.123580763404448,-14.878316338767931 L 12.175618930722266,-14.449143568583892 L 12.500095249083017,-13.547699883684402 L 12.738478631245442,-13.137905775609937 L 13.312913852601838,-12.483630466362513 L 13.633721144269828,-12.038644707897191 L 13.738727654686926,-11.297863050993143 L 13.686379428775297,-10.731075941615842 L 13.387327915102162,-10.373578383020728 L 13.120987583069876,-9.766897067914115 L 12.875369500386569,-9.16693368900549 L 12.929061313537801,-8.959091078327575 L 13.236432732809874,-8.562629489784342 L 12.933040398824318,-7.596538588087753 L 12.72829837408392,-6.927122084178805 L 12.227347039446443,-6.294447523629373 L 12.322431674863566,-6.100092461779653 L 12.461450683271783,-6.054820339472171 L 12.32243167486351,-6.10009246177966 L 12.182336866920252,-5.789930515163839 L 12.421074412521394,-5.690787983020661 L 12.18233686692028,-5.789930515163803 L 11.914963006242125,-5.037986748884753 L 11.91496300624209,-5.037986748884791 L 11.093772820691925,-3.978826592630547 L 10.06613528813574,-2.9694825171056816 L 9.40524539555497,-2.144313246269043 L 8.79799563969317,-1.111301364754496 L 8.830086704146424,-0.7790735815500369 L 9.048419630579588,-0.45935149496021666 L 9.29135053878369,0.2686660831676875 L 9.492888624721985,1.010119533691494 L 9.305613234096256,1.1609113631191832 L 9.649158155972628,2.2838660750377358 L 9.795195753629457,3.073404445809117 L 9.404366896206,3.734526882335203 L 8.948115675501072,3.9041289331171356 L 8.744923943729418,4.35221527751996 L 8.48881554529089,4.495617377129918 L 8.500287713259695,4.7719829370268485 L 7.462108188515941,4.412108262546241 L 7.0825964697644395,4.4646890324032285 L 6.6980721370806,4.240594183769517 L 5.898172641634687,4.262453314628985 L 5.3628048030908815,4.887970689305959 L 5.033574252959369,5.611802476418234 L 4.325607130560684,6.2706511499234665 L 3.574180128604553,6.258300482605719 L 2.6917016943562544,6.258817246928629 L 1.8652405127123188,6.142157701029731 L 1.0601216976049272,5.928837388528876 L -0.5076379052659377,5.3434726017426755 L -1.0636246402941936,5.000547797053812 L -1.9647065901675944,4.710462144383371 L -2.856125047202397,4.994475816259509 L -3.3110843571000714,4.984295559098015 L -4.008819545904942,5.179813340674315 L -4.649917364917911,5.168263658057086 L -5.8344962223445265,4.993700669775137 L -6.528769090185847,4.705087795425015 L -7.5189412093304355,4.338288479017308 L -7.7121593896697505,4.364565944837722 z M 30.833852421715427,3.509171604222463 L 30.833852421715427,3.5091716042224625 L 31.24556000000007,3.7819000000000074 L 30.833852421715427,3.509171604222463 z M 31.24556000000007,3.7819000000000074 L 31.881449999999973,3.558269999999993 L 31.881450000000065,3.5582700000000203 L 31.24556000000007,3.7819000000000074 z M 33.29480000000012,8.354580000000055 L 32.954180000000065,7.784970000000101 L 33.568290000000104,7.7133400000000165 L 32.954180000000235,7.784970000000101 L 33.29480000000012,8.354580000000055 z M 33.568290000000104,7.7133400000000165 L 34.07510000000002,7.2259500000000685 L 34.250320000000045,6.8260700000000725 L 34.07510000000019,7.2259500000000685 L 33.568290000000104,7.7133400000000165 z M 14.181336297266794,12.483656927943116 L 14.181336297266798,12.48365692794316 L 14.079814917184104,12.471597914332296 L 14.181336297266794,12.483656927943116 z M 14.41449958413652,12.842876775737617 L 14.495787387762846,12.85939626713733 L 14.495787388955435,12.859396265216617 L 14.495787387762903,12.859396267137356 L 14.41449958413652,12.842876775737617 z M 14.96015180811224,11.555574044436693 L 14.9601518083376,11.555574042197224 L 14.92356489427496,10.891325181517473 L 15.467872755605201,9.982336737503545 L 15.467872755605242,9.982336737503545 L 14.923564894275046,10.891325181517516 L 14.960151808337685,11.555574042197236 L 14.96015180811224,11.555574044436693 z M 14.171466098699058,10.021378282099924 L 14.171466098699028,10.021378282099931 L 13.954218377344006,9.549494940626687 L 14.54446658698177,8.965861314322268 L 14.608922317820928,8.9407382630875 L 14.544466586981855,8.96586131432224 L 13.954218377344091,9.549494940626687 L 14.171466098699058,10.021378282099924 z M 15.436091749745733,7.692812404811908 L 15.279460483469109,7.421924546737969 L 15.679060615173425,7.458252966736969 L 15.279460483469165,7.421924546738012 L 15.436091749745742,7.692812404811889 L 15.436091749745733,7.692812404811908 z M 16.110930677203,7.503644979751388 L 16.290561557691888,7.754307359239306 L 16.42962082358614,7.737906609626809 L 16.290561557691888,7.754307359239419 L 16.110930677203,7.503644979751388 z M 16.456184523187375,7.734773667832943 L 16.705988396886255,7.5083275415299795 L 16.70598839688634,7.508327541530005 L 16.456184523187403,7.73477366783294 L 16.456184523187375,7.734773667832943 z M 16.97373553702692,7.589694668696526 L 17.964929640380888,7.890914008002866 L 18.328350152263898,8.225033547618313 L 17.964929640380888,7.890914008002994 L 16.97373553702692,7.589694668696526 z M 18.395414062930648,8.285231605240106 L 18.911021762780507,8.630894680206353 L 18.9110217627805,8.630894680206376 L 18.395414062930648,8.285231605240106 z M 18.81200971850928,8.9829145369786 L 18.879929500809247,9.005056610042855 L 18.812009718509273,8.982914536978626 L 18.81200971850928,8.9829145369786 z M 21.927980342673532,10.729974913628713 L 22.231129184668788,10.97188873946051 L 22.864165480244225,11.142395127807546 L 22.97754357269261,10.71446259199854 L 23.554304233502194,10.089255275915308 L 23.55724979014283,9.681218166538684 L 23.394779087017184,9.265067857292223 L 23.459012892355986,8.954285793488893 L 23.805813429466752,8.666318874542426 L 24.567369012152085,8.229187933785468 L 25.11493248871679,7.825104071479174 L 25.124130893664727,7.500085150579437 L 25.79664798351118,6.979315904158071 L 26.213418409945117,6.546603298362072 L 26.465909458123235,5.9467174341018705 L 27.21340905122517,5.5509534773945575 L 27.37422610851749,5.233944403500061 L 27.97997724784281,4.408413397637375 L 28.428993768026913,4.287154649264494 L 28.696677687298802,4.455077215996937 L 29.1590784034465,4.389267279473231 L 29.159078403446568,4.3892672794732555 L 28.696677687298802,4.455077215996994 L 28.428993768027,4.2871546492646075 L 27.979977247842953,4.408413397637389 L 27.374226108517632,5.233944403500175 L 27.213409051225256,5.550953477394614 L 26.465909458123292,5.946717434101856 L 26.21341840994512,6.546603298362129 L 25.796647983511264,6.97931590415817 L 25.124130893664812,7.500085150579423 L 25.114932488716875,7.825104071479245 L 24.5673690121522,8.229187933785454 L 23.886979580860668,8.619729712933065 L 23.805813429466752,8.666318874542526 L 23.459012892355986,8.95428579348902 L 23.394779087017298,9.265067857292252 L 23.55724979014292,9.68121816653877 L 23.554304233502194,10.08925527591532 L 22.977543572692753,10.71446259199854 L 22.864165480244253,11.142395127807617 L 22.23112918466876,10.97188873946061 L 21.927980342673532,10.729974913628713 z M 29.29116926236348,4.439440234003868 L 29.71599531425602,4.600804755060025 L 29.71599531600352,4.600804751917485 L 29.71599531425602,4.600804755060153 L 29.29116926236348,4.439440234003868 z M 34.00500000000005,4.249884947362148 L 34.005000000000074,4.2498849473621165 L 34.48198494416377,4.7129460077952805 L 34.00500000000005,4.249884947362148 z M 35.29800711823305,5.505999999999978 L 35.817447662353516,5.338232082790797 L 35.817447662353516,4.7769656634618896 L 36.159078632855646,4.447864127672769 L 36.85509323800812,4.447864127672769 L 38.120915,3.598605 L 38.43697,3.58851 L 38.67114,3.6160700000000006 L 38.89251,3.5007400000000004 L 39.55938425876585,3.42206 L 39.79034543321841,3.747712446566297 L 39.55938425876593,3.422060000000215 L 38.89251000000007,3.5007400000000644 L 38.67114000000004,3.616070000000093 L 38.436970000000144,3.588510000000099 L 38.12091500000014,3.5986050000000773 L 36.85509323800824,4.447864127672858 L 36.15907863285565,4.447864127672858 L 35.81744766235363,4.776965663462022 L 35.81744766235363,5.338232082790853 L 35.2980071182331,5.506000000000029 L 35.29800711823305,5.505999999999978 z M 39.85494000000003,3.838790000000014 L 40.76848,4.257020000000001 L 41.1718,3.9190899999999997 L 41.85508309264397,3.918911920483727 L 41.85508309264401,3.9189119204837652 L 41.17180000000013,3.9190900000000397 L 40.768480000000125,4.257020000000125 L 39.85494000000011,3.838790000000131 L 39.85494000000003,3.838790000000014 z M 42.05551491344563,4.14989370665518 L 42.128609999999995,4.23413 L 42.76967,4.25259 L 43.66087,4.95755 L 44.96360000000001,5.00162 L 45.480195218750055,5.5503097812500535 L 44.9636000000001,5.001620000000116 L 43.66086999999999,4.957550000000083 L 42.76967000000013,4.252590000000225 L 42.128610000000094,4.234130000000164 L 42.05551491344563,4.14989370665518 z M 12.505845086709735,-4.50199585611037 L 12.620759718484505,-4.438023369976147 L 12.620759718484493,-4.438023369976136 L 12.505845086709735,-4.50199585611037 z M 12.948443562183654,-4.738008620709537 L 12.99551720546517,-4.781103203961887 L 12.995517205465177,-4.781103203961884 L 12.948443562183654,-4.738008620709537 z M 13.322627432746508,-5.882386958175715 L 13.375597364971895,-5.864241224799557 L 13.74446373867129,-5.865894870632889 L 13.375597364971895,-5.8642412247995495 L 13.322627432746508,-5.882386958175715 z M 16.545760445723243,-6.5398057684770645 L 16.573179965896145,-6.622644545115094 L 16.597701841751167,-6.673878223080822 L 16.573179965896145,-6.6226445451150875 L 16.545760445723243,-6.5398057684770645 z M 18.339220070873214,-7.900284277939865 L 18.464175652752687,-7.847014255406478 L 19.01675174324967,-7.9882459448601395 L 19.02959583249295,-7.966814031809016 L 19.01675174324967,-7.988245944860132 L 18.464175652752687,-7.847014255406443 L 18.339220070873214,-7.900284277939865 z M 19.28162105834303,-7.471048488559613 L 19.41750247567321,-7.155428562044295 L 19.41750247567316,-7.155428562044299 L 19.28162105834303,-7.471048488559613 z M 19.753920731673798,-7.134237743719314 L 20.037723016040218,-7.11636117923166 L 20.042890485331355,-7.099748979295711 L 20.037723016040218,-7.116361179231646 L 19.753920731673798,-7.134237743719314 z M 20.527409120948473,-6.939867930807933 L 20.6018229509383,-6.939317722199689 L 20.6018229509383,-6.939317722199682 L 20.527409120948473,-6.939867930807933 z M 20.514748162526537,-7.2996058081386295 L 20.51474816252653,-7.299605808138665 L 21.7281107927397,-7.290872491081316 L 21.7281107927397,-7.290872491081302 L 20.514748162526537,-7.2996058081386295 z M 21.90928234235975,-8.230044450969023 L 21.949130893652036,-8.305900974158302 L 21.949130893652043,-8.305900974158277 L 21.90928234235975,-8.230044450969023 z M 22.155268182064333,-11.084801120653763 L 22.155268182064333,-11.084801120653779 L 22.402798292742425,-10.993075453335695 L 22.402798292742375,-10.993075453335692 L 22.155268182064333,-11.084801120653763 z M 22.56296535074893,-11.002122825502788 L 22.83734541188477,-11.017621758674338 L 23.456790805767458,-10.867863457892485 L 23.45679080576744,-10.867863457892483 L 22.83734541188474,-11.01762175867433 L 22.56296535074893,-11.002122825502788 z M 23.51377784828863,-10.875241446717705 L 23.912215203555725,-10.92682626713754 L 23.912215203555718,-10.926826267137514 L 23.51377784828863,-10.875241446717705 z M 29.41999271148829,-5.9399988785991065 L 29.41999271008831,-5.939998874539299 L 29.51998660657307,-5.419978936386258 L 29.339997592900374,-4.499983412294114 L 29.753512404099865,-4.452389418153302 L 29.753512404099883,-4.4523894181532855 L 29.339997592900346,-4.4999834122940925 L 29.519986606572928,-5.419978936386315 L 29.419992710088167,-5.939998874539434 L 29.41999271148829,-5.9399988785991065 z M 30.758308953438096,-2.287250258051983 L 30.75830895358314,-2.287250257988376 L 30.81613488131785,-1.6989140763453747 L 30.419104852019302,-1.1346591121504161 L 30.41910485201926,-1.1346591121504377 L 30.816134881317712,-1.6989140763453887 L 30.75830895358311,-2.2872502579883687 L 30.758308953438096,-2.287250258051983 z M 37.69868999999994,-3.0969899999999693 L 37.74277473554033,-3.4719332286909923 L 37.69869,-3.09699 L 37.69868999999994,-3.0969899999999693 z M 12.11788372133908,-17.15023637582267 L 12.215461460019355,-17.111668389558083 L 12.604871484132472,-17.000869404796617 L 12.215461460019384,-17.111668389558062 L 12.11788372133908,-17.15023637582267 z M 12.943756949781323,-16.947317564100533 L 13.462362094789967,-16.971211846588773 L 14.05850141770901,-17.423380629142663 L 14.058501417709033,-17.423380629142653 L 13.462362094789967,-16.971211846588744 L 12.943756949781323,-16.947317564100533 z M 14.209706658595039,-17.35310068122572 L 17.932689731564224,-17.313470242609554 L 14.209706658595053,-17.353100681225712 L 14.209706658595039,-17.35310068122572 z M 18.263309360434164,-17.309950860262006 L 18.956186964603603,-17.789094740472258 L 20.521858951369747,-17.880630858036184 L 18.95618696460363,-17.789094740472237 L 18.26330936043422,-17.309950860262006 L 18.263309360434164,-17.309950860262006 z M 22.26978174935805,-17.732714716351776 L 23.215048455506064,-17.523116143465984 L 23.215048455506047,-17.523116143465966 L 22.26978174935805,-17.732714716351776 z M 34.55998904799935,-11.520020033415925 L 35.05875812896671,-11.466409208435577 L 34.559989047999466,-11.520020033415847 L 34.55998904214081,-11.520020004957997 L 34.55998904799935,-11.520020033415925 z M 35.31239790216914,-11.43914641687917 L 36.51408165868426,-11.720938002166735 L 36.51408165868429,-11.72093800216672 L 35.31239790216915,-11.439146416879169 L 35.31239790216914,-11.43914641687917 z M 36.77515099462285,-11.594537448780804 L 36.775150995981264,-11.594537448730485 L 36.77515099462289,-11.594537448780784 L 36.77515099462285,-11.594537448780804 z M 38.427556592750214,-11.285202325058714 L 38.42755659358775,-11.285202325081656 L 38.427556594886184,-11.285202324620517 L 38.42755659358778,-11.285202325081627 L 38.427556592750214,-11.285202325058714 z M 22.176972283626906,-16.430942129324716 L 21.887842644953878,-16.080310153876884 L 21.887842644953878,-16.080310153876894 L 22.176972283626906,-16.430942129324716 z M 21.933886346125945,-12.898437188369359 L 24.016136508894675,-12.911046237848574 L 24.01613650889467,-12.911046237848552 L 21.933886346125945,-12.898437188369357 L 21.933886346125945,-12.898437188369359 z M 23.93092207204538,-12.565847670138844 L 23.97287426858502,-12.460377839920564 L 23.930922072045377,-12.565847670138822 L 23.93092207204538,-12.565847670138844 z M 31.157751323641047,-8.59457873920676 L 31.15775133695005,-8.594578747317366 L 31.556348097466497,-8.762048841998642 L 32.19186486179197,-8.930358981973278 L 32.75937544122132,-9.23059905358906 L 32.75937553015696,-9.230599070512662 L 32.75937544122138,-9.230599053589003 L 32.19186486179194,-8.930358981973257 L 31.55634809746664,-8.762048841998649 L 31.15775133695007,-8.594578747317314 L 31.157751323641047,-8.59457873920676 z M 31.17414918897597,2.204465241977069 L 31.174149204235817,2.204465236821264 L 30.85267011894806,1.8493964705438088 L 30.468507521290295,1.5838054467797207 L 30.297908635718127,1.3511255368254782 L 30.46850752129029,1.5838054467797065 L 30.85267011894814,1.849396470543752 L 31.17414920423596,2.2044652368213065 L 31.17414918897597,2.204465241977069 z M 30.086153598762778,1.0623127303063862 L 30.086153598762706,1.0623127303062887 L 30.033731224745438,0.9464581247957593 L 30.086153598762778,1.0623127303063862 z M 29.587773109663566,-0.5932280117600209 L 29.579466180140884,-1.3413131648856265 L 29.821518588996014,-1.4433224422297855 L 29.82151858899608,-1.4433224422297513 L 29.579466180141026,-1.3413131648856051 L 29.587773109663566,-0.5932280117600209 z M 33.963392794971185,9.464285229420625 L 33.97498000000007,8.68456000000014 L 33.97498000000007,8.684560000000147 L 33.961620000000096,9.583580000000097 L 33.963392794971185,9.464285229420625 z M 35.26049000000006,12.08286000000004 L 35.86363000000017,12.578280000000063 L 36.27022000000005,13.563330000000121 L 35.86363,12.578280000000063 L 35.26049000000006,12.08286000000004 z M 0.3748922054146817,14.92890818934613 L 0.29564639649510127,14.444234930880654 L 0.42107710601273085,14.01875523527037 L 0.29564639649521496,14.444234930880668 L 0.3748922054147652,14.928908189346135 L 0.3748922054146817,14.92890818934613 z M 0.5239169545859539,13.879744359988425 L 0.9930456884900708,13.335749620003824 L 1.0241032242974768,12.851825669806574 L 2.177107781593776,12.625017808477535 L 2.1544735042499212,11.940150051313339 L 2.246685842254018,12.02060872308169 L 2.1544735042499497,11.940150051313424 L 2.177107781593918,12.625017808477537 L 1.024103224297619,12.851825669806601 L 0.993045688490156,13.335749620003867 L 0.5239169545859539,13.879744359988425 z M 3.503088807425998,11.741741319635658 L 3.611180454125559,11.660167141155968 L 3.6111804541255603,11.660167141155988 L 3.503088807425998,11.741741319635658 z M 4.1079459977473585,13.531215725147861 L 4.368343540066064,13.747481594289326 L 4.985251398480987,13.815469900847338 L 4.368343540066007,13.747481594289411 L 4.107945997747379,13.531215725147945 L 4.1079459977473585,13.531215725147861 z M 5.961745794894087,13.672830076859489 L 6.445426059605637,13.492768459522678 L 6.820441928747754,13.115091254117518 L 7.330746697630019,13.0980380314612 L 7.330746697630047,13.098038031461215 L 6.820441928747812,13.115091254117601 L 6.4454260596057225,13.492768459522722 L 5.961745794894087,13.672830076859489 z M 7.804671258178845,13.343526923063722 L 8.40236683297468,13.088268548208559 L 7.804671258178871,13.343526923063735 L 7.804671258178845,13.343526923063722 z M 9.078009300960034,12.829682344584425 L 9.524928012742947,12.851102199754479 L 9.524928012743063,12.851102199754562 L 9.078009300960034,12.829682344584425 z M 9.83407531530156,13.074438444217863 L 10.114814487354693,13.27725189864941 L 10.477524639794108,13.258483310895363 L 10.11481448735475,13.277251898649467 L 9.83407531530156,13.074438444217863 z M 10.85394778205065,13.321321908053998 L 10.989593133191535,13.38732269943111 L 11.44217105650587,13.338262644181771 L 10.989593133191534,13.387322699431195 L 10.85394778205065,13.321321908053998 z M 11.527803175511455,13.328980007373564 L 12.302071160540523,13.037189032437524 L 12.302071160540546,13.03718903243754 L 11.527803175511508,13.32898000737356 L 11.527803175511455,13.328980007373564 z M 13.174785944188061,13.58075416612878 L 13.318701613018561,13.556356309457826 L 13.648463348427372,13.022816730604658 L 13.318701613018561,13.556356309457954 L 13.174785944188061,13.58075416612878 z M -14.348009391331296,22.171073296333493 L -14.221167771857253,22.31016307218816 L -14.221167771857228,22.310163072188264 L -14.348009391331296,22.171073296333493 z M -13.977258563847396,23.330594878549704 L -13.891110398809047,23.691009019459305 L -13.071372204779024,24.327333801725203 L -13.891110398809047,23.691009019459386 L -13.977258563847396,23.330594878549704 z M -12.39538654723374,25.053195874792763 L -12.030758836301615,26.030866197203043 L -11.718219773800357,26.104091701760623 L -11.460268118196572,26.72138286617839 L -11.718219773800342,26.104091701760808 L -12.030758836301658,26.030866197203125 L -12.39538654723374,25.053195874792763 z M -11.39255489749696,26.88342397715437 L -10.608504881005885,26.98350112299396 L -11.39255489749695,26.883423977154393 L -11.39255489749696,26.88342397715437 z M -10.55126257978527,26.990807603456886 L -10.189424200877582,26.860944729107405 L -9.735343390328879,26.860944729107405 L -9.735343390328865,26.860944729107416 L -10.189424200877454,26.860944729107416 L -10.55126257978526,26.990807603456886 L -10.55126257978527,26.990807603456886 z M -9.54955798873924,26.99209963101524 L -9.413037482124466,27.088476060488517 L -8.794883999049077,27.120696316022507 L -8.794883999049079,27.120696316022556 L -9.413037482124508,27.088476060488546 L -9.54955798873924,26.99209963101524 z M -8.817828334986638,27.656425889592356 L -8.665589565454809,27.656425889592356 L -8.666972276031123,27.848568189283313 L -8.665589565454837,27.65642588959247 L -8.817809007940525,27.65642588959247 L -8.817828334986643,27.65642588959247 L -8.817828334986638,27.656425889592356 z M 4.267419467800039,19.155265204337 L 4.2702099951438015,16.852227484601215 L 3.7234216650634835,16.184283759012615 L 3.6382589046464773,15.568119818580456 L 3.260797057490954,15.50072611278487 L 3.638258904646591,15.568119818580442 L 3.723421665063597,16.184283759012658 L 4.270209995143887,16.852227484601315 L 4.267419467800096,19.155265204337017 L 4.267419467800039,19.155265204337 z M 9.864496413176523,22.28409788928921 L 11.9995056494717,23.471668402596435 L 11.560669386449035,24.097909247325617 L 10.771363559622955,24.562532050061748 L 10.771363559622941,24.562532050061744 L 11.560669386449005,24.097909247325518 L 11.999505649471613,23.47166840259645 L 9.864496413176523,22.28409788928921 z M 1.3855281917469,15.323561102759175 L 1.3855281917468576,15.323561102759172 L 1.2553589692289955,15.19844946848169 L 1.3855281917469,15.323561102759175 z M 9.482139926805274,30.307556057246188 L 9.707325749752325,29.69295344095838 L 9.482139926805417,30.307556057246188 L 9.693791222804602,30.40810219246036 L 9.482139926805274,30.307556057246188 z M 9.970017124072873,30.539324856075336 L 9.970017124072967,30.539324856075382 L 10.027719672234902,30.82098218967096 L 9.970017124072873,30.539324856075336 z M 10.015657746855183,31.121206433973434 L 9.950225050505196,31.376069647745283 L 10.636901482799487,31.761420803345686 L 10.944789666394513,32.081814683555365 L 11.432253452203781,32.36890310315283 L 11.484464452217525,33.07826160288365 L 11.432253452203696,32.368903103152874 L 10.944789666394456,32.081814683555365 L 10.636901482799487,31.761420803345757 L 9.950225050505082,31.376069647745258 L 10.015657746855183,31.121206433973434 z M 10.587934631084634,24.490646644277234 L 10.303846876678449,24.379313259370974 L 9.948261346078027,24.936953640232616 L 9.910692579801776,25.365454616796796 L 9.31941084151822,26.094324856057483 L 9.478125532355095,26.26144026588205 L 9.319410841518163,26.094324856057455 L 9.910692579801776,25.36545461679674 L 9.94826134607797,24.936953640232517 L 10.303846876678362,24.379313259370917 L 10.587934631084634,24.490646644277234 z M 9.64326732541953,27.038519291064986 L 9.629056023811085,27.140953477480966 L 9.629056023811074,27.14095347748092 L 9.64326732541953,27.038519291064986 z M 9.756128370816777,27.688258571884184 L 9.756128370816782,27.688258571884205 L 9.683884718472882,28.144173895779318 L 9.859997999723475,28.95998973237107 L 9.839623576638393,29.134131011049064 L 9.859997999723447,28.959989732371014 L 9.683884718472768,28.1441738957792 L 9.756128370816777,27.688258571884184 z M 25.043826463553536,31.408741218678824 L 24.802869999999984,31.089290000000005 L 24.820154751400548,31.04151930322132 L 24.80287,31.089290000000002 L 25.043826463553536,31.408741218678824 z M -8.674116176782832,28.841288967396643 L -7.059227667661929,29.57922842052453 L -6.060632290053774,29.731699734001694 L -5.339976001276291,29.968316504617732 L -6.060632290053746,29.731699734001808 L -7.059227667661901,29.579228420524657 L -8.674116176782832,28.84128896739665 L -8.674116176782832,28.841288967396643 z M -4.904441484986253,30.442541881694236 L -4.859646165374471,30.501187649043846 L -3.97812517360329,30.79957347545562 L -4.859646165374443,30.501187649043885 L -4.904441484986253,30.442541881694236 z M -3.6571524481526545,31.47084944571121 L -3.647497931320146,31.637294012980675 L -3.068980271812648,31.724497992473218 L -2.616604783529567,32.09434621838615 L -2.398704154035277,32.122408721963474 L -2.616604783529567,32.094346218386164 L -3.0689802718126487,31.72449799247329 L -3.647497931320146,31.637294012980817 L -3.6571524481526545,31.47084944571121 z M -1.388049282222589,32.86401500094137 L -1.405232101521497,32.91653262743111 L -1.388049282222596,32.86401500094138 L -1.388049282222589,32.86401500094137 z\" /></g></g></svg>"
      ],
      "text/plain": [
       "<shapely.geometry.multipolygon.MultiPolygon at 0x23a45b4def0>"
      ]
     },
     "execution_count": 16,
     "metadata": {},
     "output_type": "execute_result"
    }
   ],
   "source": [
    "africa"
   ]
  },
  {
   "cell_type": "code",
   "execution_count": 24,
   "metadata": {
    "scrolled": false
   },
   "outputs": [
    {
     "name": "stdout",
     "output_type": "stream",
     "text": [
      "MULTIPOLYGON (((49.54351891459575 -12.46983285894055, 49.80898074727909 -12.89528492599955, 50.05651085795716 -13.55576140712198, 50.21743126811407 -14.7587887508768, 50.47653689962553 -15.22651213955054, 50.37711144389596 -15.70606943121913, 50.20027469259318 -16.00026336025677, 49.86060550313868 -15.41425261806692, 49.67260664246086 -15.71020354580248, 49.86334435405016 -16.45103687913878, 49.77456424337271 -16.8750420060936, 49.49861209493412 -17.10603565843827, 49.43561852397031 -17.95306406013437, 49.04179243347394 -19.11878101977445, 48.54854088724801 -20.49688811613413, 47.93074913919867 -22.39150115325108, 47.54772342305131 -23.78195891692852, 47.0957613462266 -24.94162973399045, 46.28247765481709 -25.17846282318411, 45.40950768411045 -25.60143442149309, 44.83357384621755 -25.34610116953894, 44.03972049334976 -24.98834522878231, 43.76376834491117 -24.46067717864999, 43.69777754087445 -23.5741163062506, 43.34565433123763 -22.77690398528387, 43.254187046081 -22.05741301848412, 43\n"
     ]
    }
   ],
   "source": [
    "print(str(africa)[:1000])"
   ]
  },
  {
   "cell_type": "markdown",
   "metadata": {},
   "source": [
    "<div class=\"alert alert-info\" style=\"font-size:120%\">\n",
    "<b>REMEMBER</b>: <br><br>\n",
    "\n",
    "GeoPandas (and Shapely for the individual objects) provides a whole lot of basic methods to analyse the geospatial data (distance, length, centroid, boundary, convex_hull, simplify, transform, ....), much more than the few that we can touch in this tutorial.\n",
    "\n",
    "\n",
    "<ul>\n",
    "  <li>An overview of all methods provided by GeoPandas can be found here: http://geopandas.readthedocs.io/en/latest/reference.html</li>\n",
    "</ul>\n",
    "\n",
    "</div>\n",
    "\n"
   ]
  },
  {
   "cell_type": "code",
   "execution_count": null,
   "metadata": {},
   "outputs": [],
   "source": []
  },
  {
   "cell_type": "code",
   "execution_count": null,
   "metadata": {},
   "outputs": [],
   "source": []
  },
  {
   "cell_type": "code",
   "execution_count": null,
   "metadata": {},
   "outputs": [],
   "source": []
  },
  {
   "cell_type": "code",
   "execution_count": null,
   "metadata": {},
   "outputs": [],
   "source": []
  }
 ],
 "metadata": {
  "kernelspec": {
   "display_name": "Python 3",
   "language": "python",
   "name": "python3"
  },
  "language_info": {
   "codemirror_mode": {
    "name": "ipython",
    "version": 3
   },
   "file_extension": ".py",
   "mimetype": "text/x-python",
   "name": "python",
   "nbconvert_exporter": "python",
   "pygments_lexer": "ipython3",
   "version": "3.6.5"
  }
 },
 "nbformat": 4,
 "nbformat_minor": 2
}
