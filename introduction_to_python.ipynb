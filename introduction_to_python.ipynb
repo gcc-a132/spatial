{
 "cells": [
  {
   "cell_type": "markdown",
   "metadata": {},
   "source": [
    "## What is Python? Why are we going to use it?"
   ]
  },
  {
   "cell_type": "markdown",
   "metadata": {},
   "source": [
    "Python is an interpreted high-level language; other high-level languages you might have heard of are C, C++, Perl, and Java."
   ]
  },
  {
   "cell_type": "markdown",
   "metadata": {},
   "source": [
    "You can go deep and far with any programming language, but we wanted to teach Python because...\n",
    "* We want you to focus on programming, not learning a programming language\n",
    "* Struggle less, Learn more\n",
    "* Have more fun!\n",
    "* Python is general purpose and allows you to work on all kinds of interesting projects\n",
    " * Data science\n",
    " * Scientific and mathematical computing\n",
    " * Web development\n",
    " * Finance and trading\n",
    " * System automation and administration\n",
    " * Computer graphics\n",
    " * Basic game development\n",
    " * Security and penetration testing\n",
    " * General and application-specific scripting\n",
    " * Mapping and geography (GIS software)\n",
    "* Python is widely used in data analysis/ data science"
   ]
  },
  {
   "cell_type": "markdown",
   "metadata": {},
   "source": [
    "## Python Expressions"
   ]
  },
  {
   "cell_type": "markdown",
   "metadata": {},
   "source": [
    "**Value**: what a program has to work with. \n",
    "\n",
    "There are different types of values\n",
    "String, Int, Float"
   ]
  },
  {
   "cell_type": "code",
   "execution_count": 2,
   "metadata": {},
   "outputs": [
    {
     "data": {
      "text/plain": [
       "str"
      ]
     },
     "execution_count": 2,
     "metadata": {},
     "output_type": "execute_result"
    }
   ],
   "source": [
    "string = \"This is a string\"\n",
    "type(string)\n"
   ]
  },
  {
   "cell_type": "code",
   "execution_count": 5,
   "metadata": {},
   "outputs": [
    {
     "data": {
      "text/plain": [
       "int"
      ]
     },
     "execution_count": 5,
     "metadata": {},
     "output_type": "execute_result"
    }
   ],
   "source": [
    "type(1)"
   ]
  },
  {
   "cell_type": "code",
   "execution_count": 8,
   "metadata": {},
   "outputs": [
    {
     "data": {
      "text/plain": [
       "float"
      ]
     },
     "execution_count": 8,
     "metadata": {},
     "output_type": "execute_result"
    }
   ],
   "source": [
    "type(3.14)"
   ]
  },
  {
   "cell_type": "markdown",
   "metadata": {},
   "source": [
    "**Variable**, a name that points to a value\n",
    "\n",
    "Variable names in Python have some restrictions..."
   ]
  },
  {
   "cell_type": "markdown",
   "metadata": {},
   "source": [
    "Python is wonderful"
   ]
  },
  {
   "cell_type": "code",
   "execution_count": 6,
   "metadata": {},
   "outputs": [
    {
     "data": {
      "text/plain": [
       "'Tomorrow'"
      ]
     },
     "execution_count": 6,
     "metadata": {},
     "output_type": "execute_result"
    }
   ],
   "source": [
    "abc = \"Tomorrow\"\n",
    "abc"
   ]
  },
  {
   "cell_type": "code",
   "execution_count": 9,
   "metadata": {},
   "outputs": [
    {
     "name": "stdout",
     "output_type": "stream",
     "text": [
      "sevencoolthings\n"
     ]
    }
   ],
   "source": [
    "coolthings = \"sevencoolthings\"\n",
    "print(coolthings)"
   ]
  },
  {
   "cell_type": "code",
   "execution_count": 12,
   "metadata": {},
   "outputs": [
    {
     "name": "stdout",
     "output_type": "stream",
     "text": [
      "45\n"
     ]
    }
   ],
   "source": [
    "awesome45 = 45\n",
    "print(awesome45)"
   ]
  },
  {
   "cell_type": "code",
   "execution_count": 14,
   "metadata": {},
   "outputs": [],
   "source": [
    "bootcamp  = \"my bootcamp\"\n",
    "bootcamp75 = 12432341234134"
   ]
  },
  {
   "cell_type": "markdown",
   "metadata": {},
   "source": [
    "Example:  \n",
    "If you run a 10 kilometer race in 43 minutes 30 seconds, what is your average time per mile? What is your average speed in miles per hour? (Hint: there are 1.61 kilometers in a mile)."
   ]
  },
  {
   "cell_type": "code",
   "execution_count": 15,
   "metadata": {},
   "outputs": [],
   "source": [
    "kilometers = 10\n",
    "kilom_per_mile = 1.61"
   ]
  },
  {
   "cell_type": "code",
   "execution_count": 17,
   "metadata": {},
   "outputs": [
    {
     "name": "stdout",
     "output_type": "stream",
     "text": [
      "I ran  6.211180124223602\n"
     ]
    }
   ],
   "source": [
    "distance_in_miles = kilometers / kilom_per_mile\n",
    "print(\"I ran \", distance_in_miles)"
   ]
  },
  {
   "cell_type": "code",
   "execution_count": 95,
   "metadata": {},
   "outputs": [
    {
     "data": {
      "text/plain": [
       "7.003500000000001"
      ]
     },
     "execution_count": 95,
     "metadata": {},
     "output_type": "execute_result"
    }
   ],
   "source": [
    "# Average time per mile\n",
    "43.5 / distance_in_miles"
   ]
  },
  {
   "cell_type": "code",
   "execution_count": 18,
   "metadata": {},
   "outputs": [],
   "source": [
    "time_in_hours = 43.5 / 60"
   ]
  },
  {
   "cell_type": "code",
   "execution_count": 21,
   "metadata": {},
   "outputs": [
    {
     "name": "stdout",
     "output_type": "stream",
     "text": [
      "8.567144998929106\n"
     ]
    }
   ],
   "source": [
    "mph = distance_in_miles / time_in_hours\n",
    "print(mph)"
   ]
  },
  {
   "cell_type": "markdown",
   "metadata": {},
   "source": [
    "## Python Data types (what you'll be working with during this bootcamp)\n",
    "From the [great talk](https://youtu.be/j6VSAsKAj98?list=LLnOPU_YQJoz4VlqjCDgsBAQ) by David Beasley"
   ]
  },
  {
   "cell_type": "markdown",
   "metadata": {},
   "source": [
    "## *Tuple*\n",
    "AKA:  \n",
    ">`Record`\n",
    "    \n",
    "KNOWN FOR:  \n",
    "> A row in a database. Packing and unpacking things.\n",
    "    \n",
    "BASIC USAGE:\n",
    "> `record  = (val1, val2, val3)`  \n",
    "> `a, b, c = record`  \n",
    "> `val = record[n]`\n",
    "\n",
    "ACCOMPLICE:\n",
    "> `collections.namedtuple`"
   ]
  },
  {
   "cell_type": "code",
   "execution_count": 41,
   "metadata": {},
   "outputs": [],
   "source": [
    "row = (\"Bob\", \"Davis\", \"2391 695 UT\", 84121)"
   ]
  },
  {
   "cell_type": "code",
   "execution_count": 36,
   "metadata": {},
   "outputs": [
    {
     "data": {
      "text/plain": [
       "('Bob', 'Davis', '2391 695 UT', 84121)"
      ]
     },
     "execution_count": 36,
     "metadata": {},
     "output_type": "execute_result"
    }
   ],
   "source": [
    "row"
   ]
  },
  {
   "cell_type": "code",
   "execution_count": 28,
   "metadata": {},
   "outputs": [],
   "source": [
    "from collections import namedtuple"
   ]
  },
  {
   "cell_type": "code",
   "execution_count": 31,
   "metadata": {},
   "outputs": [],
   "source": [
    "Person = namedtuple(\"Person\", [\"first\", \"last\", \"address\", \"postalcode\"])"
   ]
  },
  {
   "cell_type": "code",
   "execution_count": 43,
   "metadata": {},
   "outputs": [],
   "source": [
    "row1 = Person(\"Sam\", \"Douglas\", \"2391 E 695 S SLC UT\", 84121)\n",
    "row2 = Person(\"Me\",'Too','None',\"postalcode\")"
   ]
  },
  {
   "cell_type": "code",
   "execution_count": 44,
   "metadata": {},
   "outputs": [
    {
     "name": "stdout",
     "output_type": "stream",
     "text": [
      "('Bob', 'Davis', '2391 695 UT', 84121)\n",
      "Person(first='Sam', last='Douglas', address='2391 E 695 S SLC UT', postalcode=84121)\n",
      "Person(first='Me', last='Too', address='None', postalcode='postalcode')\n"
     ]
    }
   ],
   "source": [
    "print(row)\n",
    "print(row1)\n",
    "print(row2)"
   ]
  },
  {
   "cell_type": "markdown",
   "metadata": {},
   "source": [
    "## *List*\n",
    "AKA:  \n",
    ">`Mutable Sequence, Array`\n",
    "    \n",
    "KNOWN FOR:  \n",
    "> Enforcing order.\n",
    "    \n",
    "BASIC USAGE:\n",
    "> `items  = [val1, val2, val3,..., valn]`  \n",
    "> `x = items[n]`  \n",
    "> `del items[n]`  \n",
    "> `items.append(value)`  \n",
    "> `items.sort()`"
   ]
  },
  {
   "cell_type": "code",
   "execution_count": 45,
   "metadata": {},
   "outputs": [
    {
     "data": {
      "text/plain": [
       "[1, 'something', 2, 3, 3.15]"
      ]
     },
     "execution_count": 45,
     "metadata": {},
     "output_type": "execute_result"
    }
   ],
   "source": [
    "my_list = [1,\"something\",2,3,3.15]\n",
    "my_list"
   ]
  },
  {
   "cell_type": "code",
   "execution_count": 46,
   "metadata": {},
   "outputs": [
    {
     "data": {
      "text/plain": [
       "[1, 'something', 2, 3, 3.15, 'add this']"
      ]
     },
     "execution_count": 46,
     "metadata": {},
     "output_type": "execute_result"
    }
   ],
   "source": [
    "my_list.append(\"add this\")\n",
    "my_list"
   ]
  },
  {
   "cell_type": "code",
   "execution_count": 47,
   "metadata": {},
   "outputs": [],
   "source": [
    "my_list.insertfirst(2, \"eh?\")"
   ]
  },
  {
   "cell_type": "code",
   "execution_count": 48,
   "metadata": {},
   "outputs": [
    {
     "data": {
      "text/plain": [
       "[1, 'something', 'eh?', 2, 3, 3.15, 'add this']"
      ]
     },
     "execution_count": 48,
     "metadata": {},
     "output_type": "execute_result"
    }
   ],
   "source": [
    "my_list"
   ]
  },
  {
   "cell_type": "code",
   "execution_count": 49,
   "metadata": {},
   "outputs": [
    {
     "name": "stdout",
     "output_type": "stream",
     "text": [
      "The object in my list is 1\n",
      "The object in my list is something\n",
      "The object in my list is eh?\n",
      "The object in my list is 2\n",
      "The object in my list is 3\n",
      "The object in my list is 3.15\n",
      "The object in my list is add this\n"
     ]
    }
   ],
   "source": [
    "for x in my_list:\n",
    "    print(\"The object in my list is \" + str(x))"
   ]
  },
  {
   "cell_type": "code",
   "execution_count": 50,
   "metadata": {},
   "outputs": [],
   "source": [
    "lower_names = [\"judy\", \"charlie\", \"sam\", \"chuck\", \"jim\", \"sandy\"]"
   ]
  },
  {
   "cell_type": "code",
   "execution_count": 51,
   "metadata": {},
   "outputs": [
    {
     "name": "stdout",
     "output_type": "stream",
     "text": [
      "JUDY\n",
      "CHARLIE\n",
      "SAM\n",
      "CHUCK\n",
      "JIM\n",
      "SANDY\n"
     ]
    }
   ],
   "source": [
    "for firstname in lower_names:\n",
    "    print(firstname.upper())\n"
   ]
  },
  {
   "cell_type": "code",
   "execution_count": 53,
   "metadata": {},
   "outputs": [
    {
     "data": {
      "text/plain": [
       "True"
      ]
     },
     "execution_count": 53,
     "metadata": {},
     "output_type": "execute_result"
    }
   ],
   "source": [
    "firstname == lower_names[-1]"
   ]
  },
  {
   "cell_type": "markdown",
   "metadata": {},
   "source": [
    "## *Set*\n",
    "AKA:  \n",
    ">`Set`\n",
    "    \n",
    "KNOWN FOR:  \n",
    "> Uniqueness, membership tests.\n",
    "    \n",
    "BASIC USAGE:\n",
    "> `s  = {val1, val2, ..., valn}`  \n",
    "> `s.add(val)`  \n",
    "> `s.remove(val)`  \n",
    "> `val in s`\n"
   ]
  },
  {
   "cell_type": "code",
   "execution_count": 57,
   "metadata": {},
   "outputs": [],
   "source": [
    "names = set([\"Dave\", \"Nate\", \"Carol\", \"John\", \"Dave\"])"
   ]
  },
  {
   "cell_type": "code",
   "execution_count": 58,
   "metadata": {},
   "outputs": [],
   "source": [
    "names1 =set([\"Carol\", \"John\"])"
   ]
  },
  {
   "cell_type": "code",
   "execution_count": 59,
   "metadata": {},
   "outputs": [
    {
     "data": {
      "text/plain": [
       "{'Carol', 'John'}"
      ]
     },
     "execution_count": 59,
     "metadata": {},
     "output_type": "execute_result"
    }
   ],
   "source": [
    "names.intersection(names1)"
   ]
  },
  {
   "cell_type": "code",
   "execution_count": 56,
   "metadata": {},
   "outputs": [],
   "source": [
    "names_two = {\"Dave\", \"Nate\", \"carol\", \"John\", \"Amber\", \"Dave\"}"
   ]
  },
  {
   "cell_type": "code",
   "execution_count": 132,
   "metadata": {},
   "outputs": [
    {
     "data": {
      "text/plain": [
       "{'Amber', 'Dave', 'John', 'Nate', 'carol'}"
      ]
     },
     "execution_count": 132,
     "metadata": {},
     "output_type": "execute_result"
    }
   ],
   "source": [
    "names_two"
   ]
  },
  {
   "cell_type": "markdown",
   "metadata": {
    "collapsed": true
   },
   "source": [
    "### *Dict*\n",
    "AKA:  \n",
    ">`Mapping, Associative Array`\n",
    "    \n",
    "KNOWN FOR:  \n",
    "> Lookup tables, indices.\n",
    "    \n",
    "BASIC USAGE:\n",
    "> `d  = {key1: val1, key2: val2, key3: val3}`  \n",
    "> `val = d[key]`  \n",
    "> `d[key] = val`  \n",
    "> `del d[key]`\n",
    "> `key in d`\n"
   ]
  },
  {
   "cell_type": "code",
   "execution_count": 84,
   "metadata": {},
   "outputs": [
    {
     "data": {
      "text/plain": [
       "{'nested_key1': 'nested_value1'}"
      ]
     },
     "execution_count": 84,
     "metadata": {},
     "output_type": "execute_result"
    }
   ],
   "source": [
    "mydictionary = {\"key1\":{\"nested_key1\":\"nested_value1\"}}\n",
    "mydictionary['key1']"
   ]
  },
  {
   "cell_type": "code",
   "execution_count": 97,
   "metadata": {},
   "outputs": [
    {
     "name": "stdout",
     "output_type": "stream",
     "text": [
      "{'place': 'Toronto', 'address': '123,smell your way', 'relationship': 'ugly brother'}\n",
      "place\n",
      "john\n",
      "{'place': 'Toronto', 'address': '123,smell your way', 'relationship': 'ugly brother'}\n"
     ]
    }
   ],
   "source": [
    "family = {\"john\":{\"place\":\"Toronto\",\"relationship\":\"ugly brother\",\"address\":\"123,smell your way\"}}\n",
    "\n",
    "for eachFamilymember in family: \n",
    "    #print Family Member Name\n",
    "    for eachAttribute in eachFamilymember:\n",
    "        #print each attribute about the Family Member\n",
    "\n",
    "\n",
    "#examples of looping over a dictionary - where the key/values are being printed.\n",
    "for key in family.keys():\n",
    "    \n",
    "    print(family[key],\"this is a dictionary, with it's own keys/values\")\n",
    "\n",
    "for k,v in family.items():\n",
    "    v1 = v.keys()\n",
    "    print(list(v1),\"here I made a list of keys for the values\")\n",
    "    \n",
    "    \n",
    "for item in family.items():\n",
    "    print(item[0],'Here is the key ')\n",
    "    print(item[1])\n",
    "    \n"
   ]
  },
  {
   "cell_type": "code",
   "execution_count": 70,
   "metadata": {},
   "outputs": [],
   "source": [
    "prices = {\n",
    "    \"ACME\": 45.23,\n",
    "    \"YOW\": {\"key1\": \"val1\", \"key2\": \"val2\", \"key3\": \"val3\"},\n",
    "    \"APPL\": [\"Dave\", \"Nate\", \"Carol\", \"John\", \"Dave\"]\n",
    "}"
   ]
  },
  {
   "cell_type": "code",
   "execution_count": 73,
   "metadata": {},
   "outputs": [
    {
     "data": {
      "text/plain": [
       "'val2'"
      ]
     },
     "execution_count": 73,
     "metadata": {},
     "output_type": "execute_result"
    }
   ],
   "source": [
    "prices['YOW']['key2']"
   ]
  },
  {
   "cell_type": "code",
   "execution_count": 145,
   "metadata": {},
   "outputs": [
    {
     "data": {
      "text/plain": [
       "'val1'"
      ]
     },
     "execution_count": 145,
     "metadata": {},
     "output_type": "execute_result"
    }
   ],
   "source": [
    "prices[\"YOW\"][\"key1\"]"
   ]
  },
  {
   "cell_type": "markdown",
   "metadata": {},
   "source": [
    "### *Counter*\n",
    "AKA:  \n",
    ">`collections.Counter`\n",
    "    \n",
    "KNOWN FOR:  \n",
    "> Counting, Histograms, Tabluation.\n",
    "    \n",
    "BASIC USAGE:\n",
    "> `c  = Counter(sequence)`  \n",
    "> `c[key] += n`  \n",
    "> `c.most_common(n)`  "
   ]
  },
  {
   "cell_type": "code",
   "execution_count": 74,
   "metadata": {},
   "outputs": [],
   "source": [
    "from collections import Counter"
   ]
  },
  {
   "cell_type": "code",
   "execution_count": 79,
   "metadata": {},
   "outputs": [],
   "source": [
    "c = Counter([1,1,2,3,4,5,6,7,8,8,8,9])"
   ]
  },
  {
   "cell_type": "code",
   "execution_count": 80,
   "metadata": {},
   "outputs": [
    {
     "data": {
      "text/plain": [
       "Counter({1: 2, 2: 1, 3: 1, 4: 1, 5: 1, 6: 1, 7: 1, 8: 3, 9: 1})"
      ]
     },
     "execution_count": 80,
     "metadata": {},
     "output_type": "execute_result"
    }
   ],
   "source": [
    "c"
   ]
  },
  {
   "cell_type": "code",
   "execution_count": 77,
   "metadata": {},
   "outputs": [],
   "source": [
    "c['a'] += 10"
   ]
  },
  {
   "cell_type": "code",
   "execution_count": 78,
   "metadata": {},
   "outputs": [
    {
     "data": {
      "text/plain": [
       "Counter({'a': 10, 't': 1, 'x': 4, 'y': 1, 'z': 2})"
      ]
     },
     "execution_count": 78,
     "metadata": {},
     "output_type": "execute_result"
    }
   ],
   "source": [
    "c"
   ]
  },
  {
   "cell_type": "markdown",
   "metadata": {},
   "source": [
    "### *Defaultdict*\n",
    "AKA:  \n",
    ">`collections.defaultdict`\n",
    "    \n",
    "KNOWN FOR:  \n",
    "> Multidicts, One-to-many relationships, Grouping.\n",
    "    \n",
    "BASIC USAGE:\n",
    "> `d  = defaultdict(list)` \n",
    "> `d[key].append(val)`\n",
    "> `values = d[key]`\n"
   ]
  },
  {
   "cell_type": "code",
   "execution_count": null,
   "metadata": {},
   "outputs": [],
   "source": [
    "from collections import defaultdict"
   ]
  },
  {
   "cell_type": "code",
   "execution_count": null,
   "metadata": {},
   "outputs": [],
   "source": [
    "d = defaultdict(list)"
   ]
  },
  {
   "cell_type": "code",
   "execution_count": null,
   "metadata": {},
   "outputs": [],
   "source": [
    "d['stuff'].append(19)"
   ]
  },
  {
   "cell_type": "code",
   "execution_count": null,
   "metadata": {},
   "outputs": [],
   "source": [
    "d['stuff'].append(34)"
   ]
  },
  {
   "cell_type": "code",
   "execution_count": null,
   "metadata": {},
   "outputs": [],
   "source": [
    "d['spam'].append(\"hi!\")"
   ]
  },
  {
   "cell_type": "code",
   "execution_count": null,
   "metadata": {},
   "outputs": [],
   "source": [
    "d"
   ]
  },
  {
   "cell_type": "markdown",
   "metadata": {},
   "source": [
    "### OrderderDict\n",
    "AKA\n",
    "`collections.OrderedDict`\n",
    "\n",
    "KNOWN FOR:\n",
    "`An dictionary which keeps the order of the items`\n",
    "\n",
    "BASIC USAGE:\n",
    "`d = OrderedDict.fromkeys('abcde')\n",
    "d.move_to_end('b')`"
   ]
  },
  {
   "cell_type": "code",
   "execution_count": 1,
   "metadata": {},
   "outputs": [
    {
     "data": {
      "text/plain": [
       "OrderedDict([('A', None), ('B', None), ('C', None), ('D', None), ('E', None)])"
      ]
     },
     "execution_count": 1,
     "metadata": {},
     "output_type": "execute_result"
    }
   ],
   "source": [
    "from collections import OrderedDict\n",
    "d = OrderedDict.fromkeys('ABCDE')\n",
    "d"
   ]
  },
  {
   "cell_type": "code",
   "execution_count": 3,
   "metadata": {},
   "outputs": [
    {
     "data": {
      "text/plain": [
       "OrderedDict([('A', None), ('C', None), ('D', None), ('E', None), ('B', None)])"
      ]
     },
     "execution_count": 3,
     "metadata": {},
     "output_type": "execute_result"
    }
   ],
   "source": [
    "d.move_to_end('B')\n",
    "d"
   ]
  },
  {
   "cell_type": "code",
   "execution_count": 5,
   "metadata": {},
   "outputs": [
    {
     "data": {
      "text/plain": [
       "OrderedDict([('A', None),\n",
       "             ('C', 'Hello World'),\n",
       "             ('D', None),\n",
       "             ('E', None),\n",
       "             ('B', None)])"
      ]
     },
     "execution_count": 5,
     "metadata": {},
     "output_type": "execute_result"
    }
   ],
   "source": [
    "d['C'] = \"Hello World\"\n",
    "d"
   ]
  }
 ],
 "metadata": {
  "anaconda-cloud": {},
  "kernelspec": {
   "display_name": "Python 3",
   "language": "python",
   "name": "python3"
  },
  "language_info": {
   "codemirror_mode": {
    "name": "ipython",
    "version": 3
   },
   "file_extension": ".py",
   "mimetype": "text/x-python",
   "name": "python",
   "nbconvert_exporter": "python",
   "pygments_lexer": "ipython3",
   "version": "3.4.5"
  }
 },
 "nbformat": 4,
 "nbformat_minor": 2
}
