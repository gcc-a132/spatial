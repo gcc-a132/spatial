{
 "cells": [
  {
   "cell_type": "markdown",
   "metadata": {},
   "source": [
    "## First Exercise: "
   ]
  },
  {
   "cell_type": "markdown",
   "metadata": {},
   "source": [
    "Complete the following questions about creating basic python data and run your cell. Have completed for tomorrow's class. "
   ]
  },
  {
   "cell_type": "markdown",
   "metadata": {},
   "source": [
    "### Create a list which contains the names of your three favorite books"
   ]
  },
  {
   "cell_type": "code",
   "execution_count": null,
   "metadata": {},
   "outputs": [],
   "source": [
    "# %load _solutions/lab1-q1.py\n"
   ]
  },
  {
   "cell_type": "markdown",
   "metadata": {},
   "source": [
    "### Create a tuple and try to change the value of one of the items"
   ]
  },
  {
   "cell_type": "code",
   "execution_count": null,
   "metadata": {},
   "outputs": [],
   "source": [
    "# %load _solutions/lab1-q2.py\n"
   ]
  },
  {
   "cell_type": "markdown",
   "metadata": {},
   "source": [
    "### Create a dictionary with the definition for your 5 favorite words"
   ]
  },
  {
   "cell_type": "code",
   "execution_count": null,
   "metadata": {},
   "outputs": [],
   "source": [
    "# %load _solutions/lab1-q3.py\n"
   ]
  },
  {
   "cell_type": "markdown",
   "metadata": {},
   "source": [
    "### Create a dictionary with the information from your family (place, relationship, address, phone, etc) AND PRINT EACH ONE USING PROPER INDEXING IN A FOR LOOP...please do not use your real address or personal information... make something up. "
   ]
  },
  {
   "cell_type": "code",
   "execution_count": null,
   "metadata": {},
   "outputs": [],
   "source": [
    "# %load _solutions/lab1-q4.py\n"
   ]
  },
  {
   "cell_type": "markdown",
   "metadata": {},
   "source": [
    "### Consider the sad story of middle-manager-Frank: \n",
    "\n",
    "**POOR FRANK**\n",
    "\n",
    "Frank Henderson is the director of a small special operations division in a\n",
    "$300 million training services and publishing company. The work of his\n",
    "division includes registering people for seminars, booking hotels and\n",
    "conference centers as training sites, hiring and training seminar leaders,\n",
    "fulfilling orders for materials, preparing invoices, and handling customer\n",
    "inquiries and complaints. Frank’s division supports more than 50 different\n",
    "programs.\n",
    "\n",
    "Frank is in a bit of a dither. He has a big problem – a \"rate\" problem – and a\n",
    "host of related, smaller problems. It's budget time and he’s just informed\n",
    "his 50-odd internal customers that, unless some \"magic\" can be worked, the\n",
    "rates his division charges are going to be about 20 percent higher next year.\n",
    "His customers, the company’s program managers, are very unhappy and\n",
    "Frank's boss wants to know what can be done.\n",
    "\n",
    "Essentially Frank is caught in a real cost-crunch – between a rock and hard\n",
    "place, as the saying goes. On the one side, his operation, along with several\n",
    "others, was recently moved from the old, \"drab-but-dirt-cheap\" quarters it\n",
    "occupied for the last five years to brand-new, very fancy and very expensive\n",
    "facilities. Long-term, all things considered, this is a good move for Frank's\n",
    "company. But, short-term, the cost of space has more than doubled. On the\n",
    "other side of the equation, things are equally glum. Frank's division has\n",
    "been losing work. The work lost amounts to 20 percent of the division's\n",
    "hours for the previous year. Frank saw some of this coming and earlier in\n",
    "the year took steps to reduce his division's staff. In addition, he instructed \n",
    "his managers to begin making greater use of less expensive temporary\n",
    "agency staff.\n",
    "\n",
    "The net of all this is that the fixed expenses in Frank's division have\n",
    "increased considerably and must now be distributed over a much smaller\n",
    "base of productive hours. As a consequence, the rates Frank must charge in\n",
    "order to recover the expense of work performed in his division have been\n",
    "increased and, according to projections, will have to be increased yet again.\n",
    "Poor Frank; what is he to do?"
   ]
  },
  {
   "cell_type": "markdown",
   "metadata": {},
   "source": [
    "### What is the problem facing Poor Frank? "
   ]
  },
  {
   "cell_type": "code",
   "execution_count": null,
   "metadata": {},
   "outputs": [],
   "source": []
  },
  {
   "cell_type": "markdown",
   "metadata": {},
   "source": [
    "### What are some of the contraints making Poor Frank  problem? "
   ]
  },
  {
   "cell_type": "code",
   "execution_count": null,
   "metadata": {},
   "outputs": [],
   "source": []
  },
  {
   "cell_type": "markdown",
   "metadata": {},
   "source": [
    "### Who are the stakeholders? "
   ]
  },
  {
   "cell_type": "code",
   "execution_count": null,
   "metadata": {},
   "outputs": [],
   "source": []
  },
  {
   "cell_type": "markdown",
   "metadata": {},
   "source": [
    "### When does Poor Frank have to act? "
   ]
  },
  {
   "cell_type": "code",
   "execution_count": null,
   "metadata": {},
   "outputs": [],
   "source": []
  }
 ],
 "metadata": {
  "anaconda-cloud": {},
  "kernelspec": {
   "display_name": "Python 3",
   "language": "python",
   "name": "python3"
  },
  "language_info": {
   "codemirror_mode": {
    "name": "ipython",
    "version": 3
   },
   "file_extension": ".py",
   "mimetype": "text/x-python",
   "name": "python",
   "nbconvert_exporter": "python",
   "pygments_lexer": "ipython3",
   "version": "3.6.5"
  }
 },
 "nbformat": 4,
 "nbformat_minor": 2
}
